{
  "nbformat": 4,
  "nbformat_minor": 0,
  "metadata": {
    "colab": {
      "name": "pscore_movie_covers_create.ipynb",
      "provenance": [],
      "toc_visible": true
    },
    "kernelspec": {
      "name": "python3",
      "display_name": "Python 3"
    },
    "language_info": {
      "name": "python"
    }
  },
  "cells": [
    {
      "cell_type": "markdown",
      "metadata": {
        "id": "0Jo_tXW7AZMh"
      },
      "source": [
        "# Tutorial on Propensity Score Matching with Dowhy to de-bias causal estimates\n",
        "\n",
        "In this notebook we introduce the use of propensity score methods as provided by Microsoft's DoWhy library to estimate the magnitude of causal effects.\n",
        "\n",
        "We illustrate this by estimating the effect of a subscription or rewards programme (*treatment*) on customer spend (*outcome*).\n",
        "\n",
        "Suppose that a website has a membership rewards program where customers receive additional benefits if they sign up. How do we know if the program is effective? At the end of the day, it may just be the more engaged customers are also those that sign up for the program!\n",
        "\n",
        "Hence, the relevant causal question is:\n",
        "> What is the impact of offering the membership rewards program on total sales?\n",
        "\n",
        "And the equivalent counterfactual question is, \n",
        "> If the current members had not signed up for the program, how much less would they have spent on the website?\n",
        "\n",
        "In language of causal inference, we are interested in the *Average Treatment Effect on the Treated* (ATT):\n",
        "\n",
        "𝐴𝑇𝑇=𝐸[𝑌(𝑇=1)−𝑌(𝑇=0)|𝑇=1]=𝐸[𝑌(𝑇=1)|𝑇=1]−𝐸[𝑌(𝑇=0)|𝑇=1]\n",
        "\n",
        "Note the counterfactual nature of both this causal effect:\n",
        "- the first term on the right hand side is the average spend by members of the programme (T=1), a potentially observable quantity;\n",
        "- the second term is the average spend by non-members *had they been members*: this cannot be observed, though we may have a control group or modelling strategy that provides a consistent estimate."
      ]
    },
    {
      "cell_type": "markdown",
      "metadata": {
        "id": "UkeEgPyY_he2"
      },
      "source": [
        "### Load packages and set debugging level"
      ]
    },
    {
      "cell_type": "code",
      "metadata": {
        "colab": {
          "base_uri": "https://localhost:8080/"
        },
        "id": "Ifi-WLwESzSB",
        "outputId": "a620a9d6-5df8-4335-a12b-141ece6fcc42"
      },
      "source": [
        "# Config dict to set the logging level\n",
        "import logging.config\n",
        "DEFAULT_LOGGING = {\n",
        "    'version': 1,\n",
        "    'disable_existing_loggers': False,\n",
        "    'loggers': {\n",
        "        '': {\n",
        "            'level': 'INFO',\n",
        "        },\n",
        "    }\n",
        "}\n",
        "\n",
        "logging.config.dictConfig(DEFAULT_LOGGING)\n",
        "# Disabling warnings output\n",
        "import warnings\n",
        "from sklearn.exceptions import DataConversionWarning, ConvergenceWarning\n",
        "warnings.filterwarnings(action='ignore', category=DataConversionWarning)\n",
        "warnings.filterwarnings(action='ignore', category=ConvergenceWarning)\n",
        "warnings.filterwarnings(action='ignore', category=UserWarning)\n",
        "\n",
        "# install dowhy\n",
        "import sys\n",
        "!{sys.executable} -m pip install dowhy\n",
        "import dowhy\n",
        "\n",
        "import pandas as pd\n",
        "import numpy as np\n",
        "import matplotlib.pyplot as plt\n",
        "import seaborn as sns"
      ],
      "execution_count": 3,
      "outputs": [
        {
          "output_type": "stream",
          "name": "stdout",
          "text": [
            "Collecting dowhy\n",
            "  Downloading dowhy-0.6-py3-none-any.whl (123 kB)\n",
            "\u001b[?25l\r\u001b[K     |██▋                             | 10 kB 20.0 MB/s eta 0:00:01\r\u001b[K     |█████▎                          | 20 kB 12.1 MB/s eta 0:00:01\r\u001b[K     |████████                        | 30 kB 9.6 MB/s eta 0:00:01\r\u001b[K     |██████████▋                     | 40 kB 8.6 MB/s eta 0:00:01\r\u001b[K     |█████████████▏                  | 51 kB 5.0 MB/s eta 0:00:01\r\u001b[K     |███████████████▉                | 61 kB 5.5 MB/s eta 0:00:01\r\u001b[K     |██████████████████▌             | 71 kB 5.5 MB/s eta 0:00:01\r\u001b[K     |█████████████████████▏          | 81 kB 6.1 MB/s eta 0:00:01\r\u001b[K     |███████████████████████▉        | 92 kB 4.6 MB/s eta 0:00:01\r\u001b[K     |██████████████████████████▍     | 102 kB 5.1 MB/s eta 0:00:01\r\u001b[K     |█████████████████████████████   | 112 kB 5.1 MB/s eta 0:00:01\r\u001b[K     |███████████████████████████████▊| 122 kB 5.1 MB/s eta 0:00:01\r\u001b[K     |████████████████████████████████| 123 kB 5.1 MB/s \n",
            "\u001b[?25hRequirement already satisfied: scipy in /usr/local/lib/python3.7/dist-packages (from dowhy) (1.4.1)\n",
            "Collecting pydot>=1.4\n",
            "  Downloading pydot-1.4.2-py2.py3-none-any.whl (21 kB)\n",
            "Requirement already satisfied: scikit-learn in /usr/local/lib/python3.7/dist-packages (from dowhy) (0.22.2.post1)\n",
            "Requirement already satisfied: sympy>=1.4 in /usr/local/lib/python3.7/dist-packages (from dowhy) (1.7.1)\n",
            "Requirement already satisfied: numpy>=1.15 in /usr/local/lib/python3.7/dist-packages (from dowhy) (1.19.5)\n",
            "Requirement already satisfied: statsmodels in /usr/local/lib/python3.7/dist-packages (from dowhy) (0.10.2)\n",
            "Requirement already satisfied: pandas>=0.24 in /usr/local/lib/python3.7/dist-packages (from dowhy) (1.1.5)\n",
            "Requirement already satisfied: networkx>=2.0 in /usr/local/lib/python3.7/dist-packages (from dowhy) (2.6.3)\n",
            "Requirement already satisfied: python-dateutil>=2.7.3 in /usr/local/lib/python3.7/dist-packages (from pandas>=0.24->dowhy) (2.8.2)\n",
            "Requirement already satisfied: pytz>=2017.2 in /usr/local/lib/python3.7/dist-packages (from pandas>=0.24->dowhy) (2018.9)\n",
            "Requirement already satisfied: pyparsing>=2.1.4 in /usr/local/lib/python3.7/dist-packages (from pydot>=1.4->dowhy) (2.4.7)\n",
            "Requirement already satisfied: six>=1.5 in /usr/local/lib/python3.7/dist-packages (from python-dateutil>=2.7.3->pandas>=0.24->dowhy) (1.15.0)\n",
            "Requirement already satisfied: mpmath>=0.19 in /usr/local/lib/python3.7/dist-packages (from sympy>=1.4->dowhy) (1.2.1)\n",
            "Requirement already satisfied: joblib>=0.11 in /usr/local/lib/python3.7/dist-packages (from scikit-learn->dowhy) (1.0.1)\n",
            "Requirement already satisfied: patsy>=0.4.0 in /usr/local/lib/python3.7/dist-packages (from statsmodels->dowhy) (0.5.2)\n",
            "Installing collected packages: pydot, dowhy\n",
            "  Attempting uninstall: pydot\n",
            "    Found existing installation: pydot 1.3.0\n",
            "    Uninstalling pydot-1.3.0:\n",
            "      Successfully uninstalled pydot-1.3.0\n",
            "Successfully installed dowhy-0.6 pydot-1.4.2\n"
          ]
        }
      ]
    },
    {
      "cell_type": "code",
      "metadata": {
        "colab": {
          "base_uri": "https://localhost:8080/"
        },
        "id": "sb72eAFcS9KQ",
        "outputId": "993955be-d68a-42fa-918a-bdde19622903"
      },
      "source": [
        "# install libgraphviz and pygraphviz for nicer-looking graphs:\n",
        "!apt install libgraphviz-dev\n",
        "import sys\n",
        "!{sys.executable} -m pip install pygraphviz\n",
        "import pygraphviz"
      ],
      "execution_count": 4,
      "outputs": [
        {
          "output_type": "stream",
          "name": "stdout",
          "text": [
            "Reading package lists... Done\n",
            "Building dependency tree       \n",
            "Reading state information... Done\n",
            "The following additional packages will be installed:\n",
            "  libgail-common libgail18 libgtk2.0-0 libgtk2.0-bin libgtk2.0-common\n",
            "  libgvc6-plugins-gtk libxdot4\n",
            "Suggested packages:\n",
            "  gvfs\n",
            "The following NEW packages will be installed:\n",
            "  libgail-common libgail18 libgraphviz-dev libgtk2.0-0 libgtk2.0-bin\n",
            "  libgtk2.0-common libgvc6-plugins-gtk libxdot4\n",
            "0 upgraded, 8 newly installed, 0 to remove and 37 not upgraded.\n",
            "Need to get 2,120 kB of archives.\n",
            "After this operation, 7,128 kB of additional disk space will be used.\n",
            "Get:1 http://archive.ubuntu.com/ubuntu bionic/main amd64 libgtk2.0-common all 2.24.32-1ubuntu1 [125 kB]\n",
            "Get:2 http://archive.ubuntu.com/ubuntu bionic/main amd64 libgtk2.0-0 amd64 2.24.32-1ubuntu1 [1,769 kB]\n",
            "Get:3 http://archive.ubuntu.com/ubuntu bionic/main amd64 libgail18 amd64 2.24.32-1ubuntu1 [14.2 kB]\n",
            "Get:4 http://archive.ubuntu.com/ubuntu bionic/main amd64 libgail-common amd64 2.24.32-1ubuntu1 [112 kB]\n",
            "Get:5 http://archive.ubuntu.com/ubuntu bionic/universe amd64 libxdot4 amd64 2.40.1-2 [15.7 kB]\n",
            "Get:6 http://archive.ubuntu.com/ubuntu bionic/universe amd64 libgvc6-plugins-gtk amd64 2.40.1-2 [18.2 kB]\n",
            "Get:7 http://archive.ubuntu.com/ubuntu bionic/universe amd64 libgraphviz-dev amd64 2.40.1-2 [57.3 kB]\n",
            "Get:8 http://archive.ubuntu.com/ubuntu bionic/main amd64 libgtk2.0-bin amd64 2.24.32-1ubuntu1 [7,536 B]\n",
            "Fetched 2,120 kB in 1s (2,011 kB/s)\n",
            "Selecting previously unselected package libgtk2.0-common.\n",
            "(Reading database ... 155047 files and directories currently installed.)\n",
            "Preparing to unpack .../0-libgtk2.0-common_2.24.32-1ubuntu1_all.deb ...\n",
            "Unpacking libgtk2.0-common (2.24.32-1ubuntu1) ...\n",
            "Selecting previously unselected package libgtk2.0-0:amd64.\n",
            "Preparing to unpack .../1-libgtk2.0-0_2.24.32-1ubuntu1_amd64.deb ...\n",
            "Unpacking libgtk2.0-0:amd64 (2.24.32-1ubuntu1) ...\n",
            "Selecting previously unselected package libgail18:amd64.\n",
            "Preparing to unpack .../2-libgail18_2.24.32-1ubuntu1_amd64.deb ...\n",
            "Unpacking libgail18:amd64 (2.24.32-1ubuntu1) ...\n",
            "Selecting previously unselected package libgail-common:amd64.\n",
            "Preparing to unpack .../3-libgail-common_2.24.32-1ubuntu1_amd64.deb ...\n",
            "Unpacking libgail-common:amd64 (2.24.32-1ubuntu1) ...\n",
            "Selecting previously unselected package libxdot4.\n",
            "Preparing to unpack .../4-libxdot4_2.40.1-2_amd64.deb ...\n",
            "Unpacking libxdot4 (2.40.1-2) ...\n",
            "Selecting previously unselected package libgvc6-plugins-gtk.\n",
            "Preparing to unpack .../5-libgvc6-plugins-gtk_2.40.1-2_amd64.deb ...\n",
            "Unpacking libgvc6-plugins-gtk (2.40.1-2) ...\n",
            "Selecting previously unselected package libgraphviz-dev.\n",
            "Preparing to unpack .../6-libgraphviz-dev_2.40.1-2_amd64.deb ...\n",
            "Unpacking libgraphviz-dev (2.40.1-2) ...\n",
            "Selecting previously unselected package libgtk2.0-bin.\n",
            "Preparing to unpack .../7-libgtk2.0-bin_2.24.32-1ubuntu1_amd64.deb ...\n",
            "Unpacking libgtk2.0-bin (2.24.32-1ubuntu1) ...\n",
            "Setting up libgtk2.0-common (2.24.32-1ubuntu1) ...\n",
            "Setting up libxdot4 (2.40.1-2) ...\n",
            "Setting up libgtk2.0-0:amd64 (2.24.32-1ubuntu1) ...\n",
            "Setting up libgail18:amd64 (2.24.32-1ubuntu1) ...\n",
            "Setting up libgail-common:amd64 (2.24.32-1ubuntu1) ...\n",
            "Setting up libgvc6-plugins-gtk (2.40.1-2) ...\n",
            "Setting up libgraphviz-dev (2.40.1-2) ...\n",
            "Setting up libgtk2.0-bin (2.24.32-1ubuntu1) ...\n",
            "Processing triggers for man-db (2.8.3-2ubuntu0.1) ...\n",
            "Processing triggers for libc-bin (2.27-3ubuntu1.3) ...\n",
            "/sbin/ldconfig.real: /usr/local/lib/python3.7/dist-packages/ideep4py/lib/libmkldnn.so.0 is not a symbolic link\n",
            "\n",
            "Collecting pygraphviz\n",
            "  Downloading pygraphviz-1.7.zip (118 kB)\n",
            "\u001b[K     |████████████████████████████████| 118 kB 5.1 MB/s \n",
            "\u001b[?25hBuilding wheels for collected packages: pygraphviz\n",
            "  Building wheel for pygraphviz (setup.py) ... \u001b[?25l\u001b[?25hdone\n",
            "  Created wheel for pygraphviz: filename=pygraphviz-1.7-cp37-cp37m-linux_x86_64.whl size=165739 sha256=dd2a8fc1e7af08c969ebf1d95f1d591af09e2f39252d2bd35b5df144b7e50f13\n",
            "  Stored in directory: /root/.cache/pip/wheels/8c/bc/0c/ac35392b72556e75107ff610cb31b313e8471918a6d280e34c\n",
            "Successfully built pygraphviz\n",
            "Installing collected packages: pygraphviz\n",
            "Successfully installed pygraphviz-1.7\n"
          ]
        }
      ]
    },
    {
      "cell_type": "markdown",
      "metadata": {
        "id": "bAgX9nmjR4Xr"
      },
      "source": [
        "## Creating a synthetic dataset\n",
        "\n",
        "Suppose that the rewards program was introduced in January 2019. The `outcome` variable is the total spends at the end of the year. We have data on all monthly transactions of every user and on the time of signup for those who chose to signup for the rewards program. Here’s what the data looks like:\n"
      ]
    },
    {
      "cell_type": "code",
      "metadata": {
        "id": "XiLgdgkKCB5L",
        "outputId": "7b931674-7c3d-491a-e986-1babf3ba8531",
        "colab": {
          "base_uri": "https://localhost:8080/",
          "height": 878
        }
      },
      "source": [
        "# initialize a random number generator with given seed for reproducibility:\n",
        "from numpy.random import Generator, PCG64\n",
        "random_seed = 42 #123456\n",
        "#random_seed = 123456\n",
        "rng = Generator(PCG64(random_seed))\n",
        "#rng = np.random.default_rng(random_seed)\n",
        "\n",
        "stratum = {'1': \n",
        "           {'num': 100,\n",
        "             'age': 26,\n",
        "             'age-std': 4 , #*0.5,\n",
        "             'sex-pc': 0.52,\n",
        "             'ate': -0.13,\n",
        "             'view': 0.30},\n",
        "           '2': \n",
        "           {'num': 100,\n",
        "             'age': 32,\n",
        "             'age-std': 3 , #*0.5,\n",
        "             'sex-pc': 0.54,\n",
        "             'ate': -0.10,\n",
        "             'view': 0.33},\n",
        "           '3': \n",
        "           {'num': 100,\n",
        "             'age': 40,\n",
        "             'age-std': 3 , #*0.5,\n",
        "             'sex-pc': 0.52,\n",
        "             'ate': -0.05,\n",
        "             'view': 0.33},\n",
        "           '4':\n",
        "           {'num': 150,\n",
        "             'age': 55,\n",
        "             'age-std': 5 , #*0.5,\n",
        "             'sex-pc': 0.54,\n",
        "             'ate': 0.22,\n",
        "             'view': 0.28}\n",
        "}\n",
        "\n",
        "df = pd.DataFrame(columns=['age', 'sex', 'cover', 'viewed'])\n",
        "\n",
        "for idx in range(1,1+len(stratum)):\n",
        "    strat = stratum[str(idx)]\n",
        "    num = strat['num']\n",
        "    age = strat['age']\n",
        "    std = strat['age-std']\n",
        "    sex_pc = strat['sex-pc']\n",
        "    ate = strat['ate']\n",
        "    view = strat['view']\n",
        "\n",
        "    ages = rng.normal(loc=age, scale=std, size=num).astype(float)\n",
        "    sexes = rng.binomial(n=1, p=sex_pc, size=num).astype(float)\n",
        "    covers = rng.binomial(n=1, p=0.5, size=num) # random treatment within stratum!\n",
        "    len1 = covers.sum()\n",
        "    len0 = len(covers)-len1\n",
        "    views_0 = rng.binomial(n=1, p=view-0.5*ate, size=len0)\n",
        "    views_1 = rng.binomial(n=1, p=view+0.5*ate, size=len1)\n",
        "    df_strat = pd.DataFrame(\n",
        "        data={'age': ages, 'sex': sexes, 'cover': covers, 'strat': idx})\n",
        "    df_strat.loc[ df_strat['cover']==0, 'viewed' ] = views_0\n",
        "    df_strat.loc[ df_strat['cover']==1, 'viewed' ] = views_1\n",
        "    df = df.append(df_strat, ignore_index=True)\n",
        "    print(idx, df.shape)\n",
        "\n",
        "display( df.sample(n=4) )\n",
        "display( df.describe() )\n",
        "\n",
        "print(\"Mean values per stratum:\")\n",
        "display( df.groupby('strat').mean() ) #(['min', 'mean', 'max']) )\n",
        "\n",
        "print(\"Mean values per cover:\")\n",
        "display( df.groupby('cover').mean() ) #(['min', 'mean', 'max']) )"
      ],
      "execution_count": 76,
      "outputs": [
        {
          "output_type": "stream",
          "name": "stdout",
          "text": [
            "1 (100, 5)\n",
            "2 (200, 5)\n",
            "3 (300, 5)\n",
            "4 (450, 5)\n"
          ]
        },
        {
          "output_type": "display_data",
          "data": {
            "text/html": [
              "<div>\n",
              "<style scoped>\n",
              "    .dataframe tbody tr th:only-of-type {\n",
              "        vertical-align: middle;\n",
              "    }\n",
              "\n",
              "    .dataframe tbody tr th {\n",
              "        vertical-align: top;\n",
              "    }\n",
              "\n",
              "    .dataframe thead th {\n",
              "        text-align: right;\n",
              "    }\n",
              "</style>\n",
              "<table border=\"1\" class=\"dataframe\">\n",
              "  <thead>\n",
              "    <tr style=\"text-align: right;\">\n",
              "      <th></th>\n",
              "      <th>age</th>\n",
              "      <th>sex</th>\n",
              "      <th>cover</th>\n",
              "      <th>viewed</th>\n",
              "      <th>strat</th>\n",
              "    </tr>\n",
              "  </thead>\n",
              "  <tbody>\n",
              "    <tr>\n",
              "      <th>164</th>\n",
              "      <td>37.853038</td>\n",
              "      <td>0.0</td>\n",
              "      <td>1</td>\n",
              "      <td>0.0</td>\n",
              "      <td>2.0</td>\n",
              "    </tr>\n",
              "    <tr>\n",
              "      <th>442</th>\n",
              "      <td>64.181129</td>\n",
              "      <td>0.0</td>\n",
              "      <td>1</td>\n",
              "      <td>0.0</td>\n",
              "      <td>4.0</td>\n",
              "    </tr>\n",
              "    <tr>\n",
              "      <th>30</th>\n",
              "      <td>34.566590</td>\n",
              "      <td>0.0</td>\n",
              "      <td>1</td>\n",
              "      <td>0.0</td>\n",
              "      <td>1.0</td>\n",
              "    </tr>\n",
              "    <tr>\n",
              "      <th>70</th>\n",
              "      <td>20.897255</td>\n",
              "      <td>1.0</td>\n",
              "      <td>0</td>\n",
              "      <td>0.0</td>\n",
              "      <td>1.0</td>\n",
              "    </tr>\n",
              "  </tbody>\n",
              "</table>\n",
              "</div>"
            ],
            "text/plain": [
              "           age  sex cover  viewed  strat\n",
              "164  37.853038  0.0     1     0.0    2.0\n",
              "442  64.181129  0.0     1     0.0    4.0\n",
              "30   34.566590  0.0     1     0.0    1.0\n",
              "70   20.897255  1.0     0     0.0    1.0"
            ]
          },
          "metadata": {}
        },
        {
          "output_type": "display_data",
          "data": {
            "text/html": [
              "<div>\n",
              "<style scoped>\n",
              "    .dataframe tbody tr th:only-of-type {\n",
              "        vertical-align: middle;\n",
              "    }\n",
              "\n",
              "    .dataframe tbody tr th {\n",
              "        vertical-align: top;\n",
              "    }\n",
              "\n",
              "    .dataframe thead th {\n",
              "        text-align: right;\n",
              "    }\n",
              "</style>\n",
              "<table border=\"1\" class=\"dataframe\">\n",
              "  <thead>\n",
              "    <tr style=\"text-align: right;\">\n",
              "      <th></th>\n",
              "      <th>age</th>\n",
              "      <th>sex</th>\n",
              "      <th>viewed</th>\n",
              "      <th>strat</th>\n",
              "    </tr>\n",
              "  </thead>\n",
              "  <tbody>\n",
              "    <tr>\n",
              "      <th>count</th>\n",
              "      <td>450.000000</td>\n",
              "      <td>450.000000</td>\n",
              "      <td>450.000000</td>\n",
              "      <td>450.000000</td>\n",
              "    </tr>\n",
              "    <tr>\n",
              "      <th>mean</th>\n",
              "      <td>39.877344</td>\n",
              "      <td>0.542222</td>\n",
              "      <td>0.308889</td>\n",
              "      <td>2.666667</td>\n",
              "    </tr>\n",
              "    <tr>\n",
              "      <th>std</th>\n",
              "      <td>12.081148</td>\n",
              "      <td>0.498769</td>\n",
              "      <td>0.462549</td>\n",
              "      <td>1.155986</td>\n",
              "    </tr>\n",
              "    <tr>\n",
              "      <th>min</th>\n",
              "      <td>18.195859</td>\n",
              "      <td>0.000000</td>\n",
              "      <td>0.000000</td>\n",
              "      <td>1.000000</td>\n",
              "    </tr>\n",
              "    <tr>\n",
              "      <th>25%</th>\n",
              "      <td>29.514749</td>\n",
              "      <td>0.000000</td>\n",
              "      <td>0.000000</td>\n",
              "      <td>2.000000</td>\n",
              "    </tr>\n",
              "    <tr>\n",
              "      <th>50%</th>\n",
              "      <td>38.238160</td>\n",
              "      <td>1.000000</td>\n",
              "      <td>0.000000</td>\n",
              "      <td>3.000000</td>\n",
              "    </tr>\n",
              "    <tr>\n",
              "      <th>75%</th>\n",
              "      <td>51.151938</td>\n",
              "      <td>1.000000</td>\n",
              "      <td>1.000000</td>\n",
              "      <td>4.000000</td>\n",
              "    </tr>\n",
              "    <tr>\n",
              "      <th>max</th>\n",
              "      <td>66.408164</td>\n",
              "      <td>1.000000</td>\n",
              "      <td>1.000000</td>\n",
              "      <td>4.000000</td>\n",
              "    </tr>\n",
              "  </tbody>\n",
              "</table>\n",
              "</div>"
            ],
            "text/plain": [
              "              age         sex      viewed       strat\n",
              "count  450.000000  450.000000  450.000000  450.000000\n",
              "mean    39.877344    0.542222    0.308889    2.666667\n",
              "std     12.081148    0.498769    0.462549    1.155986\n",
              "min     18.195859    0.000000    0.000000    1.000000\n",
              "25%     29.514749    0.000000    0.000000    2.000000\n",
              "50%     38.238160    1.000000    0.000000    3.000000\n",
              "75%     51.151938    1.000000    1.000000    4.000000\n",
              "max     66.408164    1.000000    1.000000    4.000000"
            ]
          },
          "metadata": {}
        },
        {
          "output_type": "stream",
          "name": "stdout",
          "text": [
            "Mean values per stratum:\n"
          ]
        },
        {
          "output_type": "display_data",
          "data": {
            "text/html": [
              "<div>\n",
              "<style scoped>\n",
              "    .dataframe tbody tr th:only-of-type {\n",
              "        vertical-align: middle;\n",
              "    }\n",
              "\n",
              "    .dataframe tbody tr th {\n",
              "        vertical-align: top;\n",
              "    }\n",
              "\n",
              "    .dataframe thead th {\n",
              "        text-align: right;\n",
              "    }\n",
              "</style>\n",
              "<table border=\"1\" class=\"dataframe\">\n",
              "  <thead>\n",
              "    <tr style=\"text-align: right;\">\n",
              "      <th></th>\n",
              "      <th>age</th>\n",
              "      <th>sex</th>\n",
              "      <th>viewed</th>\n",
              "    </tr>\n",
              "    <tr>\n",
              "      <th>strat</th>\n",
              "      <th></th>\n",
              "      <th></th>\n",
              "      <th></th>\n",
              "    </tr>\n",
              "  </thead>\n",
              "  <tbody>\n",
              "    <tr>\n",
              "      <th>1.0</th>\n",
              "      <td>25.798922</td>\n",
              "      <td>0.530000</td>\n",
              "      <td>0.30</td>\n",
              "    </tr>\n",
              "    <tr>\n",
              "      <th>2.0</th>\n",
              "      <td>31.920628</td>\n",
              "      <td>0.550000</td>\n",
              "      <td>0.27</td>\n",
              "    </tr>\n",
              "    <tr>\n",
              "      <th>3.0</th>\n",
              "      <td>39.806564</td>\n",
              "      <td>0.530000</td>\n",
              "      <td>0.37</td>\n",
              "    </tr>\n",
              "    <tr>\n",
              "      <th>4.0</th>\n",
              "      <td>54.614622</td>\n",
              "      <td>0.553333</td>\n",
              "      <td>0.30</td>\n",
              "    </tr>\n",
              "  </tbody>\n",
              "</table>\n",
              "</div>"
            ],
            "text/plain": [
              "             age       sex  viewed\n",
              "strat                             \n",
              "1.0    25.798922  0.530000    0.30\n",
              "2.0    31.920628  0.550000    0.27\n",
              "3.0    39.806564  0.530000    0.37\n",
              "4.0    54.614622  0.553333    0.30"
            ]
          },
          "metadata": {}
        },
        {
          "output_type": "stream",
          "name": "stdout",
          "text": [
            "Mean values per cover:\n"
          ]
        },
        {
          "output_type": "display_data",
          "data": {
            "text/html": [
              "<div>\n",
              "<style scoped>\n",
              "    .dataframe tbody tr th:only-of-type {\n",
              "        vertical-align: middle;\n",
              "    }\n",
              "\n",
              "    .dataframe tbody tr th {\n",
              "        vertical-align: top;\n",
              "    }\n",
              "\n",
              "    .dataframe thead th {\n",
              "        text-align: right;\n",
              "    }\n",
              "</style>\n",
              "<table border=\"1\" class=\"dataframe\">\n",
              "  <thead>\n",
              "    <tr style=\"text-align: right;\">\n",
              "      <th></th>\n",
              "      <th>age</th>\n",
              "      <th>sex</th>\n",
              "      <th>viewed</th>\n",
              "      <th>strat</th>\n",
              "    </tr>\n",
              "    <tr>\n",
              "      <th>cover</th>\n",
              "      <th></th>\n",
              "      <th></th>\n",
              "      <th></th>\n",
              "      <th></th>\n",
              "    </tr>\n",
              "  </thead>\n",
              "  <tbody>\n",
              "    <tr>\n",
              "      <th>0</th>\n",
              "      <td>40.624008</td>\n",
              "      <td>0.557940</td>\n",
              "      <td>0.304721</td>\n",
              "      <td>2.716738</td>\n",
              "    </tr>\n",
              "    <tr>\n",
              "      <th>1</th>\n",
              "      <td>39.075626</td>\n",
              "      <td>0.525346</td>\n",
              "      <td>0.313364</td>\n",
              "      <td>2.612903</td>\n",
              "    </tr>\n",
              "  </tbody>\n",
              "</table>\n",
              "</div>"
            ],
            "text/plain": [
              "             age       sex    viewed     strat\n",
              "cover                                         \n",
              "0      40.624008  0.557940  0.304721  2.716738\n",
              "1      39.075626  0.525346  0.313364  2.612903"
            ]
          },
          "metadata": {}
        }
      ]
    },
    {
      "cell_type": "markdown",
      "metadata": {
        "id": "nGNcv-OkCeYS"
      },
      "source": [
        "The age means are similar in cover=0 and cover=1, but the sex distribution is not: we can't really think the assignment has been done at random."
      ]
    },
    {
      "cell_type": "code",
      "metadata": {
        "colab": {
          "base_uri": "https://localhost:8080/",
          "height": 1000
        },
        "id": "U8-Xl5P9-HHw",
        "outputId": "dc670f65-95d0-489d-9bc8-130db696365c"
      },
      "source": [
        "# Visually inspect PDF of well output\n",
        "\n",
        "savefig=False\n",
        "\n",
        "# Choosing a color palette suitable for color blind people:\n",
        "sns.set_palette(\"colorblind\")\n",
        "#color_pal = sns.color_palette(\"colorblind\", 6).as_hex()\n",
        "#colors = ','.join(color_pal)\n",
        "\n",
        "print('Stats by strat:')\n",
        "print(\" strat, not-viewed, viewed \")\n",
        "for idx in range(1,1+len(stratum)):\n",
        "    prob_0 = len( df[ (df['strat']==idx) & (df['viewed']==0) ] )\n",
        "    prob_1 = len( df[ (df['strat']==idx) & (df['viewed']==1) ] )\n",
        "    prob_tot = prob_0 + prob_1\n",
        "    print(' {:5}  {:.1%}  {:.1%}'.format(idx, prob_0/prob_tot, prob_1/prob_tot) )\n",
        "p1 = sns.displot(df, x=\"viewed\", hue=\"strat\", col=\"strat\",\n",
        "                kind=\"kde\", fill=True)\n",
        "p1.set(title=\"Percent of views by stratum\")\n",
        "if savefig: p1.savefig(\"movie_covers_views_by_stratum.png\", dpi=150)\n",
        "\n",
        "print('\\nStats by cover seen:')\n",
        "print(' cover, %not-viewed, %viewed')\n",
        "for cov in range(2):\n",
        "    prob_0 = len( df[ (df['cover']==cov) & (df['viewed']==0)] )\n",
        "    prob_1 = len( df[ (df['cover']==cov) & (df['viewed']==1)] )\n",
        "    prob_tot = prob_0 + prob_1\n",
        "    print(' {:5}  {:.1%}  {:.1%}'.format(cov, prob_0/prob_tot, prob_1/prob_tot) )\n",
        "p2 = sns.displot(df, x=\"viewed\", hue=\"cover\", #col=\"proppant\",\n",
        "                kind=\"kde\", fill=True)\n",
        "p2.set(title=\"Percent of views by cover seen\")\n",
        "if savefig: p2.savefig(\"movie_covers_views_by_cover.png\", dpi=150)\n",
        "\n",
        "print('\\nStats by sex:')\n",
        "print(' strat, %not-viewed, %viewed')\n",
        "for idx in range(2):\n",
        "    prob_0 = len( df[ (df['sex']==idx) & (df['viewed']==0)] )\n",
        "    prob_1 = len( df[ (df['sex']==idx) & (df['viewed']==1)] )\n",
        "    prob_tot = prob_0 + prob_1\n",
        "    sex = 'M' if idx==0 else 'F'\n",
        "    print(' {:5}  {:.1%}  {:.1%}'.format(sex, prob_0/prob_tot, prob_1/prob_tot) )\n",
        "p3 = sns.displot(df, x=\"viewed\", hue=\"sex\", #col=\"proppant\",\n",
        "                kind=\"kde\", fill=True)\n",
        "p3.set(title=\"Percent of views by sex\")\n",
        "if savefig: p3.savefig(\"movie_covers_views_by_sex.png\", dpi=150)\n",
        "\n",
        "print('\\nStats by age:')\n",
        "print(' age, %not-viewed, %viewed')\n",
        "age_lims = [0, 25, 35, 45, 55, 120]\n",
        "for idx in range(len(age_lims)-1):\n",
        "    #print(idx)\n",
        "    age_min = age_lims[idx]\n",
        "    age_max = age_lims[idx+1]\n",
        "    mask = ( df['age'] >= age_min ) & ( df['age'] < age_max )\n",
        "    df.loc[ mask, 'age_group'] = idx\n",
        "    prob_0 = len( df[ (mask) & (df['viewed']==0)] )\n",
        "    prob_1 = len( df[ (mask) & (df['viewed']==1)] )\n",
        "    prob_tot = prob_0 + prob_1\n",
        "    print(' [{:3},{:3})  {:.1%}  {:.1%}'.format(age_min, age_max, prob_0/prob_tot, prob_1/prob_tot) )\n",
        "p3 = sns.displot(df, x=\"viewed\", hue=\"age_group\", #col=\"proppant\",\n",
        "                kind=\"kde\", fill=True)\n",
        "p3.set(title=\"Percent of views by age_group\")\n",
        "if savefig: p3.savefig(\"movie_covers_views_by_age_group.png\", dpi=150)"
      ],
      "execution_count": 77,
      "outputs": [
        {
          "output_type": "stream",
          "name": "stdout",
          "text": [
            "Stats by strat:\n",
            " strat, not-viewed, viewed \n",
            "     1  70.0%  30.0%\n",
            "     2  73.0%  27.0%\n",
            "     3  63.0%  37.0%\n",
            "     4  70.0%  30.0%\n",
            "\n",
            "Stats by cover seen:\n",
            " cover, %not-viewed, %viewed\n",
            "     0  69.5%  30.5%\n",
            "     1  68.7%  31.3%\n",
            "\n",
            "Stats by sex:\n",
            " strat, %not-viewed, %viewed\n",
            " M      73.8%  26.2%\n",
            " F      65.2%  34.8%\n",
            "\n",
            "Stats by age:\n",
            " age, %not-viewed, %viewed\n",
            " [  0, 25)  69.8%  30.2%\n",
            " [ 25, 35)  71.8%  28.2%\n",
            " [ 35, 45)  63.1%  36.9%\n",
            " [ 45, 55)  75.0%  25.0%\n",
            " [ 55,120)  66.2%  33.8%\n"
          ]
        },
        {
          "output_type": "display_data",
          "data": {
            "image/png": "[encoded data removed]",
            "text/plain": [
              "<Figure size 1491.88x360 with 4 Axes>"
            ]
          },
          "metadata": {
            "needs_background": "light"
          }
        },
        {
          "output_type": "display_data",
          "data": {
            "image/png": "[encoded data removed]",
            "text/plain": [
              "<Figure size 402.375x360 with 1 Axes>"
            ]
          },
          "metadata": {
            "needs_background": "light"
          }
        },
        {
          "output_type": "display_data",
          "data": {
            "image/png": "[encoded data removed]",
            "text/plain": [
              "<Figure size 411.875x360 with 1 Axes>"
            ]
          },
          "metadata": {
            "needs_background": "light"
          }
        },
        {
          "output_type": "display_data",
          "data": {
            "image/png": "[encoded data removed]",
            "text/plain": [
              "<Figure size 420.5x360 with 1 Axes>"
            ]
          },
          "metadata": {
            "needs_background": "light"
          }
        }
      ]
    },
    {
      "cell_type": "markdown",
      "metadata": {
        "id": "wOQ31pnAFEyu"
      },
      "source": [
        "- Plot p2 suggests that cover1 has a better performance (higher % of views).\n",
        "- Plot p3 suggests sex=1 (female) has higher viewing rate."
      ]
    },
    {
      "cell_type": "markdown",
      "metadata": {
        "id": "dXUoi7OS77Y7"
      },
      "source": [
        "### Save wells data to file"
      ]
    },
    {
      "cell_type": "code",
      "metadata": {
        "colab": {
          "base_uri": "https://localhost:8080/",
          "height": 206
        },
        "id": "MpNCkBZX8_iC",
        "outputId": "b90762d6-1aad-45c5-a4c2-17b3124f177a"
      },
      "source": [
        "df.head()"
      ],
      "execution_count": 78,
      "outputs": [
        {
          "output_type": "execute_result",
          "data": {
            "text/html": [
              "<div>\n",
              "<style scoped>\n",
              "    .dataframe tbody tr th:only-of-type {\n",
              "        vertical-align: middle;\n",
              "    }\n",
              "\n",
              "    .dataframe tbody tr th {\n",
              "        vertical-align: top;\n",
              "    }\n",
              "\n",
              "    .dataframe thead th {\n",
              "        text-align: right;\n",
              "    }\n",
              "</style>\n",
              "<table border=\"1\" class=\"dataframe\">\n",
              "  <thead>\n",
              "    <tr style=\"text-align: right;\">\n",
              "      <th></th>\n",
              "      <th>age</th>\n",
              "      <th>sex</th>\n",
              "      <th>cover</th>\n",
              "      <th>viewed</th>\n",
              "      <th>strat</th>\n",
              "      <th>age_group</th>\n",
              "    </tr>\n",
              "  </thead>\n",
              "  <tbody>\n",
              "    <tr>\n",
              "      <th>0</th>\n",
              "      <td>27.218868</td>\n",
              "      <td>1.0</td>\n",
              "      <td>1</td>\n",
              "      <td>0.0</td>\n",
              "      <td>1.0</td>\n",
              "      <td>1.0</td>\n",
              "    </tr>\n",
              "    <tr>\n",
              "      <th>1</th>\n",
              "      <td>21.840064</td>\n",
              "      <td>0.0</td>\n",
              "      <td>0</td>\n",
              "      <td>0.0</td>\n",
              "      <td>1.0</td>\n",
              "      <td>0.0</td>\n",
              "    </tr>\n",
              "    <tr>\n",
              "      <th>2</th>\n",
              "      <td>29.001805</td>\n",
              "      <td>0.0</td>\n",
              "      <td>0</td>\n",
              "      <td>0.0</td>\n",
              "      <td>1.0</td>\n",
              "      <td>1.0</td>\n",
              "    </tr>\n",
              "    <tr>\n",
              "      <th>3</th>\n",
              "      <td>29.762259</td>\n",
              "      <td>0.0</td>\n",
              "      <td>0</td>\n",
              "      <td>1.0</td>\n",
              "      <td>1.0</td>\n",
              "      <td>1.0</td>\n",
              "    </tr>\n",
              "    <tr>\n",
              "      <th>4</th>\n",
              "      <td>18.195859</td>\n",
              "      <td>1.0</td>\n",
              "      <td>0</td>\n",
              "      <td>0.0</td>\n",
              "      <td>1.0</td>\n",
              "      <td>0.0</td>\n",
              "    </tr>\n",
              "  </tbody>\n",
              "</table>\n",
              "</div>"
            ],
            "text/plain": [
              "         age  sex cover  viewed  strat  age_group\n",
              "0  27.218868  1.0     1     0.0    1.0        1.0\n",
              "1  21.840064  0.0     0     0.0    1.0        0.0\n",
              "2  29.001805  0.0     0     0.0    1.0        1.0\n",
              "3  29.762259  0.0     0     1.0    1.0        1.0\n",
              "4  18.195859  1.0     0     0.0    1.0        0.0"
            ]
          },
          "metadata": {},
          "execution_count": 78
        }
      ]
    },
    {
      "cell_type": "code",
      "metadata": {
        "id": "IJQ5VkoI7-Po",
        "colab": {
          "base_uri": "https://localhost:8080/",
          "height": 224
        },
        "outputId": "2ef028b0-905b-4c4e-faaf-64871badc0d7"
      },
      "source": [
        "savedata=False\n",
        "savedata=True\n",
        "if savedata:\n",
        "    df1 = df.drop(columns='strat')\n",
        "    filename = 'movie_covers.csv'\n",
        "    df1.to_csv(filename, index=False) # don't include row names\n",
        "    print(\"Dataframe saved to file \", filename)\n",
        "    display( df1.head() )"
      ],
      "execution_count": 79,
      "outputs": [
        {
          "output_type": "stream",
          "name": "stdout",
          "text": [
            "Dataframe saved to file  movie_covers.csv\n"
          ]
        },
        {
          "output_type": "display_data",
          "data": {
            "text/html": [
              "<div>\n",
              "<style scoped>\n",
              "    .dataframe tbody tr th:only-of-type {\n",
              "        vertical-align: middle;\n",
              "    }\n",
              "\n",
              "    .dataframe tbody tr th {\n",
              "        vertical-align: top;\n",
              "    }\n",
              "\n",
              "    .dataframe thead th {\n",
              "        text-align: right;\n",
              "    }\n",
              "</style>\n",
              "<table border=\"1\" class=\"dataframe\">\n",
              "  <thead>\n",
              "    <tr style=\"text-align: right;\">\n",
              "      <th></th>\n",
              "      <th>age</th>\n",
              "      <th>sex</th>\n",
              "      <th>cover</th>\n",
              "      <th>viewed</th>\n",
              "      <th>age_group</th>\n",
              "    </tr>\n",
              "  </thead>\n",
              "  <tbody>\n",
              "    <tr>\n",
              "      <th>0</th>\n",
              "      <td>27.218868</td>\n",
              "      <td>1.0</td>\n",
              "      <td>1</td>\n",
              "      <td>0.0</td>\n",
              "      <td>1.0</td>\n",
              "    </tr>\n",
              "    <tr>\n",
              "      <th>1</th>\n",
              "      <td>21.840064</td>\n",
              "      <td>0.0</td>\n",
              "      <td>0</td>\n",
              "      <td>0.0</td>\n",
              "      <td>0.0</td>\n",
              "    </tr>\n",
              "    <tr>\n",
              "      <th>2</th>\n",
              "      <td>29.001805</td>\n",
              "      <td>0.0</td>\n",
              "      <td>0</td>\n",
              "      <td>0.0</td>\n",
              "      <td>1.0</td>\n",
              "    </tr>\n",
              "    <tr>\n",
              "      <th>3</th>\n",
              "      <td>29.762259</td>\n",
              "      <td>0.0</td>\n",
              "      <td>0</td>\n",
              "      <td>1.0</td>\n",
              "      <td>1.0</td>\n",
              "    </tr>\n",
              "    <tr>\n",
              "      <th>4</th>\n",
              "      <td>18.195859</td>\n",
              "      <td>1.0</td>\n",
              "      <td>0</td>\n",
              "      <td>0.0</td>\n",
              "      <td>0.0</td>\n",
              "    </tr>\n",
              "  </tbody>\n",
              "</table>\n",
              "</div>"
            ],
            "text/plain": [
              "         age  sex cover  viewed  age_group\n",
              "0  27.218868  1.0     1     0.0        1.0\n",
              "1  21.840064  0.0     0     0.0        0.0\n",
              "2  29.001805  0.0     0     0.0        1.0\n",
              "3  29.762259  0.0     0     1.0        1.0\n",
              "4  18.195859  1.0     0     0.0        0.0"
            ]
          },
          "metadata": {}
        }
      ]
    },
    {
      "cell_type": "markdown",
      "metadata": {
        "id": "8DvZKG69e12G"
      },
      "source": [
        "## Observational estimate\n",
        "\n",
        "We calculate the average spend of registered customers after they sign up, and compare that with the average spend of customers who didn't sign up."
      ]
    },
    {
      "cell_type": "markdown",
      "metadata": {
        "id": "fvdpFVhjfQnU"
      },
      "source": [
        "We will analyse data comparing customers that never signed up (`signup_month=0`) with those that signed up in June (`signup_month=6`). This allows us enough spending data before and after sign-up for a reasonable analysis."
      ]
    },
    {
      "cell_type": "code",
      "metadata": {
        "colab": {
          "base_uri": "https://localhost:8080/"
        },
        "id": "HBB7OzaAe3aO",
        "outputId": "cac05268-c10a-4002-b686-47bd8e61778e"
      },
      "source": [
        "# viewed of sand-drilled wells:\n",
        "y1 = df.loc[df['cover']==1, \"viewed\"].mean()\n",
        "# viewed of ceramic-drilled wells:\n",
        "y0 = df.loc[df['cover']==0, \"viewed\"].mean()\n",
        "\n",
        "est_obs = y1-y0\n",
        "print(\"Observational estimate of effect: {:+.1%} views, or {:+.1%} increase for cover=1\".format(\n",
        "    est_obs, est_obs/y0))\n",
        "print(\"Observational average views: y1={:.1%} views vs. y0={:.1%} views\".format(y1, y0))\n"
      ],
      "execution_count": 80,
      "outputs": [
        {
          "output_type": "stream",
          "name": "stdout",
          "text": [
            "Observational estimate of effect: +0.9% views, or +2.8% increase for cover=1\n",
            "Observational average views: y1=31.3% views vs. y0=30.5% views\n"
          ]
        }
      ]
    },
    {
      "cell_type": "markdown",
      "metadata": {
        "id": "JDCoiv0ee8ap"
      },
      "source": [
        "According to an simple estimate using the whole set of observed data, ceramic-drilled wells produce 23% more per year than sand-drilled wells."
      ]
    },
    {
      "cell_type": "markdown",
      "metadata": {
        "id": "Y0DtZ2cSSw7g"
      },
      "source": [
        "## Enter DoWhy\n",
        "\n",
        "To find out a better, less biased estimate of the true causal impact of customer registration on their spend, we will use DoWhy. We start loading the required libraries."
      ]
    },
    {
      "cell_type": "markdown",
      "metadata": {
        "id": "MWJvActeZ3ZZ"
      },
      "source": [
        "### Building a causal model\n",
        "\n",
        "We now build a graph incorporating our assumptions on the variables (features) that affect whether a customer *signs up to the programme* as well as the actual amount spent by a customer.\n",
        "\n",
        "Our assumptions, stemming from our business knowledge, are:\n",
        "- past expenditure is associated with whether a customer signs up or not: `pre_spend -> treatment`;\n",
        "- past expenditure is *not* directly associated with future expenditures: no arrow from `pre_spend` to `post_spend`;\n",
        "- signing up leads to a change (positive or negative) on post-signup spend:  `treatment -> post_spend`;\n",
        "- more engaged customers will signup earlier ( `signup_month -> program_signup_in_month_i`) and also spend more before (`signup_month -> pre_spend`) and after (`signup_month -> post_spend`) signing up;\n",
        "- there may be other variables affecting the month in which customers signup (`Z -> program_signup_in_month_i`) that do not directly affect spend before or after signing up;\n",
        "- it is likely there are further unobserved variables that affect all of `program_signup_in_month_i`, `pre_spend` and `post_spend` (\"Unobserved confounders)."
      ]
    },
    {
      "cell_type": "code",
      "metadata": {
        "colab": {
          "base_uri": "https://localhost:8080/"
        },
        "id": "bIT7zH1ke5-i",
        "outputId": "7d45781a-2242-4e6b-cb77-98d6e9d9b8c2"
      },
      "source": [
        "df.columns"
      ],
      "execution_count": 81,
      "outputs": [
        {
          "output_type": "execute_result",
          "data": {
            "text/plain": [
              "Index(['age', 'sex', 'cover', 'viewed', 'strat', 'age_group'], dtype='object')"
            ]
          },
          "metadata": {},
          "execution_count": 81
        }
      ]
    },
    {
      "cell_type": "code",
      "metadata": {
        "colab": {
          "base_uri": "https://localhost:8080/",
          "height": 206
        },
        "id": "FzUXFoekhM93",
        "outputId": "46e6ac53-b583-41e2-a005-df9c4e5ae44a"
      },
      "source": [
        "# Propensity score requires Boolean treatment:\n",
        "treatment='cover'\n",
        "df[treatment] = df[treatment].astype(bool)\n",
        "df.head()"
      ],
      "execution_count": 82,
      "outputs": [
        {
          "output_type": "execute_result",
          "data": {
            "text/html": [
              "<div>\n",
              "<style scoped>\n",
              "    .dataframe tbody tr th:only-of-type {\n",
              "        vertical-align: middle;\n",
              "    }\n",
              "\n",
              "    .dataframe tbody tr th {\n",
              "        vertical-align: top;\n",
              "    }\n",
              "\n",
              "    .dataframe thead th {\n",
              "        text-align: right;\n",
              "    }\n",
              "</style>\n",
              "<table border=\"1\" class=\"dataframe\">\n",
              "  <thead>\n",
              "    <tr style=\"text-align: right;\">\n",
              "      <th></th>\n",
              "      <th>age</th>\n",
              "      <th>sex</th>\n",
              "      <th>cover</th>\n",
              "      <th>viewed</th>\n",
              "      <th>strat</th>\n",
              "      <th>age_group</th>\n",
              "    </tr>\n",
              "  </thead>\n",
              "  <tbody>\n",
              "    <tr>\n",
              "      <th>0</th>\n",
              "      <td>27.218868</td>\n",
              "      <td>1.0</td>\n",
              "      <td>True</td>\n",
              "      <td>0.0</td>\n",
              "      <td>1.0</td>\n",
              "      <td>1.0</td>\n",
              "    </tr>\n",
              "    <tr>\n",
              "      <th>1</th>\n",
              "      <td>21.840064</td>\n",
              "      <td>0.0</td>\n",
              "      <td>False</td>\n",
              "      <td>0.0</td>\n",
              "      <td>1.0</td>\n",
              "      <td>0.0</td>\n",
              "    </tr>\n",
              "    <tr>\n",
              "      <th>2</th>\n",
              "      <td>29.001805</td>\n",
              "      <td>0.0</td>\n",
              "      <td>False</td>\n",
              "      <td>0.0</td>\n",
              "      <td>1.0</td>\n",
              "      <td>1.0</td>\n",
              "    </tr>\n",
              "    <tr>\n",
              "      <th>3</th>\n",
              "      <td>29.762259</td>\n",
              "      <td>0.0</td>\n",
              "      <td>False</td>\n",
              "      <td>1.0</td>\n",
              "      <td>1.0</td>\n",
              "      <td>1.0</td>\n",
              "    </tr>\n",
              "    <tr>\n",
              "      <th>4</th>\n",
              "      <td>18.195859</td>\n",
              "      <td>1.0</td>\n",
              "      <td>False</td>\n",
              "      <td>0.0</td>\n",
              "      <td>1.0</td>\n",
              "      <td>0.0</td>\n",
              "    </tr>\n",
              "  </tbody>\n",
              "</table>\n",
              "</div>"
            ],
            "text/plain": [
              "         age  sex  cover  viewed  strat  age_group\n",
              "0  27.218868  1.0   True     0.0    1.0        1.0\n",
              "1  21.840064  0.0  False     0.0    1.0        0.0\n",
              "2  29.001805  0.0  False     0.0    1.0        1.0\n",
              "3  29.762259  0.0  False     1.0    1.0        1.0\n",
              "4  18.195859  1.0  False     0.0    1.0        0.0"
            ]
          },
          "metadata": {},
          "execution_count": 82
        }
      ]
    },
    {
      "cell_type": "code",
      "metadata": {
        "id": "_kRohSX9IgPm",
        "outputId": "01be6113-ff4b-46b5-999a-82b4f08fbaf8",
        "colab": {
          "base_uri": "https://localhost:8080/"
        }
      },
      "source": [
        "df[treatment].value_counts(dropna=False)"
      ],
      "execution_count": 83,
      "outputs": [
        {
          "output_type": "execute_result",
          "data": {
            "text/plain": [
              "False    233\n",
              "True     217\n",
              "Name: cover, dtype: int64"
            ]
          },
          "metadata": {},
          "execution_count": 83
        }
      ]
    },
    {
      "cell_type": "code",
      "metadata": {
        "colab": {
          "base_uri": "https://localhost:8080/",
          "height": 364
        },
        "id": "v1ucfRNBhrYk",
        "outputId": "3f488100-a05c-4736-c546-4c6dfb953ed1"
      },
      "source": [
        "# simple causal graph:\n",
        "causal_graph = \"\"\"digraph {\n",
        "cover[label=\"T=cover\"];\n",
        "viewed[label=\"Y=views\"];\n",
        "age;\n",
        "sex;\n",
        "U[label=\"Unobserved Confounders\"];\n",
        "sex -> cover;\n",
        "age -> cover;\n",
        "sex -> viewed;\n",
        "age -> viewed;\n",
        "cover -> viewed;\n",
        "U->cover; U->viewed; U->age; U->sex;\n",
        "}\"\"\"\n",
        "# Instantiate a causal model with the processed data and our causal graph:\n",
        "model = dowhy.CausalModel(data=df,\n",
        "                     graph=causal_graph.replace(\"\\n\", \" \"),\n",
        "                     treatment=\"cover\",\n",
        "                     outcome=\"viewed\")\n",
        "model.view_model()\n",
        "from IPython.display import Image, display\n",
        "display(Image(filename=\"causal_model.png\"))"
      ],
      "execution_count": 84,
      "outputs": [
        {
          "output_type": "display_data",
          "data": {
            "image/png": "[encoded data removed]",
            "text/plain": [
              "<IPython.core.display.Image object>"
            ]
          },
          "metadata": {}
        }
      ]
    },
    {
      "cell_type": "markdown",
      "metadata": {
        "id": "U9lHk7JTUMEY"
      },
      "source": [
        "### Identify the causal effect\n",
        "\n",
        "We assume that `unobserved confounders` do not have an important impact to enable identifying the causal effect:"
      ]
    },
    {
      "cell_type": "code",
      "metadata": {
        "colab": {
          "base_uri": "https://localhost:8080/"
        },
        "id": "KN6v_fhIUdqu",
        "outputId": "e906ed97-3a04-42c3-feae-f79b182d6db9"
      },
      "source": [
        "identified_estimand = model.identify_effect(proceed_when_unidentifiable=True)\n",
        "print(identified_estimand)"
      ],
      "execution_count": 85,
      "outputs": [
        {
          "output_type": "stream",
          "name": "stdout",
          "text": [
            "Estimand type: nonparametric-ate\n",
            "\n",
            "### Estimand : 1\n",
            "Estimand name: backdoor\n",
            "Estimand expression:\n",
            "   d                                 \n",
            "────────(Expectation(viewed|sex,age))\n",
            "d[cover]                             \n",
            "Estimand assumption 1, Unconfoundedness: If U→{cover} and U→viewed then P(viewed|cover,sex,age,U) = P(viewed|cover,sex,age)\n",
            "\n",
            "### Estimand : 2\n",
            "Estimand name: iv\n",
            "No such variable found!\n",
            "\n",
            "### Estimand : 3\n",
            "Estimand name: frontdoor\n",
            "No such variable found!\n",
            "\n"
          ]
        }
      ]
    },
    {
      "cell_type": "markdown",
      "metadata": {
        "id": "z8KQ_T5aUiIw"
      },
      "source": [
        "Here, DoWhy informs us that it can provide estimates of the causal effect using the backdoor criterion, by conditioning on `sex` and `age`.\n"
      ]
    },
    {
      "cell_type": "markdown",
      "metadata": {
        "id": "ViGOb7rqVX1S"
      },
      "source": [
        "### Numerical estimate of the causal effect\n",
        "\n",
        "We now determine the causal estimate of the ATT using *propensity score matching*, i.e., identifying datapoints with similar values of covariates and differing only in the value of *treatment* to estimate the causal effect.\n",
        "\n",
        "Other potential causal quantities of interest are:\n",
        "\n",
        "- the *average treatment effect* (ATE):\n",
        "$ ATE = E[Y(T=1)] - E[Y(T=0)]$\n",
        "\n",
        "-  the Average Treatment Effect on Control (ATC): $ATC = E[Y(T=1)-Y(T=0)|T=0] =  E[Y(T=1)|T=0] - E[Y(T=0)|T=0]$\n"
      ]
    },
    {
      "cell_type": "code",
      "metadata": {
        "colab": {
          "base_uri": "https://localhost:8080/"
        },
        "id": "hvsVQ_SLVagV",
        "outputId": "853fd4c1-0d72-4204-c9bd-b334db23ead3"
      },
      "source": [
        "# Determine the causal estimate of the ATE\n",
        "\n",
        "target = 'att'\n",
        "target = 'ate'\n",
        "\n",
        "ntot = len(df)\n",
        "ntreat = df['cover'].sum()\n",
        "ncontrol = ntot - ntreat\n",
        "ps_mean = ntreat/ntot\n",
        "print(\"Recall the fraction of people that saw cover=1 \", ps_mean)\n",
        "\n",
        "# PS Matching:\n",
        "estimate_match = model.estimate_effect(\n",
        "    identified_estimand,\n",
        "    method_name=\"backdoor.propensity_score_matching\",\n",
        "    target_units = target, confidence_intervals=True)\n",
        "\n",
        "print(estimate_match)\n",
        "print('********************************\\n')\n",
        "\n",
        "# PS Stratification:\n",
        "num_strata = 3 # default: 50; note that there will be num_strata+1 strata (range(num_strata))\n",
        "clipping_threshold = 10 # default: 10\n",
        "estimate_strat = model.estimate_effect(\n",
        "    identified_estimand,\n",
        "    method_name=\"backdoor.propensity_score_stratification\",\n",
        "    target_units = target,\n",
        "    confidence_intervals=True,\n",
        "    method_params={\"num_strata\": num_strata,\n",
        "                   \"clipping_threshold\": clipping_threshold})\n",
        "\n",
        "print(estimate_strat)\n",
        "print('********************************\\n')\n",
        "\n",
        "# IPW: I could not determine why none of the methods gives a \n",
        "#      reasonable estimate for ATE nor ATT.\n",
        "#min_ps, max_ps = 0.5 * ps_mean, 2.0 * ps_mean\n",
        "#min_ps, max_ps = 0.11, 0.68 # after plotting calculated PSs below\n",
        "min_ps, max_ps = None, None # uses default values: 0.05, 0.95\n",
        "#min_ps = 0.4277 #406982 # max(ps) in stratum=0\n",
        "#max_ps = 0.5475 # min(ps) in stratum=4\n",
        "ipw_method = [\"ips_weight\", \"ips_stabilized_weight\", \"ips_normalized_weight\"]\n",
        "estimate_ipw = model.estimate_effect(\n",
        "    identified_estimand,\n",
        "    method_name=\"backdoor.propensity_score_weighting\",\n",
        "    target_units = target,\n",
        "    confidence_intervals=True,\n",
        "    method_params={\"weighting_scheme\": ipw_method[0],\n",
        "                   \"min_ps_score\": min_ps,\n",
        "                   \"max_ps_score\": max_ps,\n",
        "                   \"recalculate_propensity_score\": True})\n",
        "\n",
        "print(estimate_ipw)\n",
        "print('********************************\\n')\n",
        "\n",
        "#est_causal = estimate.value\n",
        "\n",
        "print(\"Causal MATCH estimate of effect: {:+.1%} views, or {:+.1%} for cover=1\".format(\n",
        "    estimate_match.value, estimate_match.value/y0))\n",
        "print(\"Causal STRAT estimate of effect: {:+.1%} views, or {:+.1%} for cover=1\".format(\n",
        "    estimate_strat.value, estimate_strat.value/y0))\n",
        "print(\"Causal IPW estimate of effect:   {:+.1%} views, or {:+.1%} for cover=1\".format(\n",
        "    estimate_ipw.value, estimate_ipw.value/y0))\n",
        "\n",
        "print(\"Recall observational estimate:   {:+.1%} views, or {:+.1%} for cover=1\".format(\n",
        "    est_obs, est_obs/y0))"
      ],
      "execution_count": 86,
      "outputs": [
        {
          "output_type": "stream",
          "name": "stdout",
          "text": [
            "Recall the fraction of people that saw cover=1  0.4822222222222222\n",
            "*** Causal Estimate ***\n",
            "\n",
            "## Identified estimand\n",
            "Estimand type: nonparametric-ate\n",
            "\n",
            "### Estimand : 1\n",
            "Estimand name: backdoor\n",
            "Estimand expression:\n",
            "   d                                 \n",
            "────────(Expectation(viewed|sex,age))\n",
            "d[cover]                             \n",
            "Estimand assumption 1, Unconfoundedness: If U→{cover} and U→viewed then P(viewed|cover,sex,age,U) = P(viewed|cover,sex,age)\n",
            "\n",
            "## Realized estimand\n",
            "b: viewed~cover+sex+age\n",
            "Target units: ate\n",
            "\n",
            "## Estimate\n",
            "Mean value: -0.017777777777777778\n",
            "95.0% confidence interval: (-0.07333333333333333, 0.07555555555555556)\n",
            "\n",
            "********************************\n",
            "\n",
            "*** Causal Estimate ***\n",
            "\n",
            "## Identified estimand\n",
            "Estimand type: nonparametric-ate\n",
            "\n",
            "### Estimand : 1\n",
            "Estimand name: backdoor\n",
            "Estimand expression:\n",
            "   d                                 \n",
            "────────(Expectation(viewed|sex,age))\n",
            "d[cover]                             \n",
            "Estimand assumption 1, Unconfoundedness: If U→{cover} and U→viewed then P(viewed|cover,sex,age,U) = P(viewed|cover,sex,age)\n",
            "\n",
            "## Realized estimand\n",
            "b: viewed~cover+sex+age\n",
            "Target units: ate\n",
            "\n",
            "## Estimate\n",
            "Mean value: 0.006173838859523785\n",
            "95.0% confidence interval: (-0.05421122897269911, 0.07531807259123469)\n",
            "\n",
            "********************************\n",
            "\n",
            "*** Causal Estimate ***\n",
            "\n",
            "## Identified estimand\n",
            "Estimand type: nonparametric-ate\n",
            "\n",
            "### Estimand : 1\n",
            "Estimand name: backdoor\n",
            "Estimand expression:\n",
            "   d                                 \n",
            "────────(Expectation(viewed|sex,age))\n",
            "d[cover]                             \n",
            "Estimand assumption 1, Unconfoundedness: If U→{cover} and U→viewed then P(viewed|cover,sex,age,U) = P(viewed|cover,sex,age)\n",
            "\n",
            "## Realized estimand\n",
            "b: viewed~cover+sex+age\n",
            "Target units: ate\n",
            "\n",
            "## Estimate\n",
            "Mean value: 0.012779198647940193\n",
            "95.0% confidence interval: (-0.05121801170357071, 0.09959699459274463)\n",
            "\n",
            "********************************\n",
            "\n",
            "Causal MATCH estimate of effect: -1.8% views, or -5.8% for cover=1\n",
            "Causal STRAT estimate of effect: +0.6% views, or +2.0% for cover=1\n",
            "Causal IPW estimate of effect:   +1.3% views, or +4.2% for cover=1\n",
            "Recall observational estimate:   +0.9% views, or +2.8% for cover=1\n"
          ]
        }
      ]
    },
    {
      "cell_type": "markdown",
      "metadata": {
        "id": "Uu2w5aPQ8YCj"
      },
      "source": [
        "## Analysis of results"
      ]
    },
    {
      "cell_type": "code",
      "metadata": {
        "colab": {
          "base_uri": "https://localhost:8080/"
        },
        "id": "VSAZYQHjjtbv",
        "outputId": "aafb787a-38e8-4111-fc40-c5a6a186a423"
      },
      "source": [
        "#print(\"Recall the fraction of wells that were treated is \", num_cer/num_wells)\n",
        "ntreat = len( df[df['cover']==1] )\n",
        "ncontrol = len( df[df['cover']==0] )\n",
        "ntot = ntreat + ncontrol\n",
        "print(\"Recall the fraction of customers shown cover1 is {}/{}={:.3f}\".format( \n",
        "      ntreat, ntot, ntreat / ntot ))\n",
        "\n",
        "# We can take a look at the propensity scores:\n",
        "print(\n",
        "    estimate_strat.propensity_scores.aggregate(['min', 'mean', 'max']),\"\\n\",\n",
        "    estimate_ipw.propensity_scores.aggregate(['min', 'mean', 'max'])\n",
        ")\n"
      ],
      "execution_count": 87,
      "outputs": [
        {
          "output_type": "stream",
          "name": "stdout",
          "text": [
            "Recall the fraction of customers shown cover1 is 217/450=0.482\n",
            "min     0.405174\n",
            "mean    0.482222\n",
            "max     0.554153\n",
            "Name: propensity_score, dtype: float64 \n",
            " min     0.405174\n",
            "mean    0.482222\n",
            "max     0.554153\n",
            "Name: ps, dtype: float64\n"
          ]
        }
      ]
    },
    {
      "cell_type": "code",
      "metadata": {
        "colab": {
          "base_uri": "https://localhost:8080/",
          "height": 342
        },
        "id": "AAYPKm4fF6Zs",
        "outputId": "2dec3127-6642-4e74-ffe4-f84f3c70321c"
      },
      "source": [
        "display( df.groupby('strata')[['propensity_score', 'age', 'sex']].agg(['min', 'max', 'mean']) )\n",
        "df.groupby('strata')['strat'].count()"
      ],
      "execution_count": 88,
      "outputs": [
        {
          "output_type": "display_data",
          "data": {
            "text/html": [
              "<div>\n",
              "<style scoped>\n",
              "    .dataframe tbody tr th:only-of-type {\n",
              "        vertical-align: middle;\n",
              "    }\n",
              "\n",
              "    .dataframe tbody tr th {\n",
              "        vertical-align: top;\n",
              "    }\n",
              "\n",
              "    .dataframe thead tr th {\n",
              "        text-align: left;\n",
              "    }\n",
              "\n",
              "    .dataframe thead tr:last-of-type th {\n",
              "        text-align: right;\n",
              "    }\n",
              "</style>\n",
              "<table border=\"1\" class=\"dataframe\">\n",
              "  <thead>\n",
              "    <tr>\n",
              "      <th></th>\n",
              "      <th colspan=\"3\" halign=\"left\">propensity_score</th>\n",
              "      <th colspan=\"3\" halign=\"left\">age</th>\n",
              "      <th colspan=\"3\" halign=\"left\">sex</th>\n",
              "    </tr>\n",
              "    <tr>\n",
              "      <th></th>\n",
              "      <th>min</th>\n",
              "      <th>max</th>\n",
              "      <th>mean</th>\n",
              "      <th>min</th>\n",
              "      <th>max</th>\n",
              "      <th>mean</th>\n",
              "      <th>min</th>\n",
              "      <th>max</th>\n",
              "      <th>mean</th>\n",
              "    </tr>\n",
              "    <tr>\n",
              "      <th>strata</th>\n",
              "      <th></th>\n",
              "      <th></th>\n",
              "      <th></th>\n",
              "      <th></th>\n",
              "      <th></th>\n",
              "      <th></th>\n",
              "      <th></th>\n",
              "      <th></th>\n",
              "      <th></th>\n",
              "    </tr>\n",
              "  </thead>\n",
              "  <tbody>\n",
              "    <tr>\n",
              "      <th>0.0</th>\n",
              "      <td>0.405174</td>\n",
              "      <td>0.441573</td>\n",
              "      <td>0.425825</td>\n",
              "      <td>50.602452</td>\n",
              "      <td>66.408164</td>\n",
              "      <td>57.168481</td>\n",
              "      <td>0.0</td>\n",
              "      <td>1.0</td>\n",
              "      <td>0.880000</td>\n",
              "    </tr>\n",
              "    <tr>\n",
              "      <th>1.0</th>\n",
              "      <td>0.442026</td>\n",
              "      <td>0.486079</td>\n",
              "      <td>0.465094</td>\n",
              "      <td>32.941725</td>\n",
              "      <td>61.452819</td>\n",
              "      <td>45.308025</td>\n",
              "      <td>0.0</td>\n",
              "      <td>1.0</td>\n",
              "      <td>0.624161</td>\n",
              "    </tr>\n",
              "    <tr>\n",
              "      <th>2.0</th>\n",
              "      <td>0.486756</td>\n",
              "      <td>0.519602</td>\n",
              "      <td>0.502598</td>\n",
              "      <td>20.709202</td>\n",
              "      <td>44.354011</td>\n",
              "      <td>32.188247</td>\n",
              "      <td>0.0</td>\n",
              "      <td>1.0</td>\n",
              "      <td>0.543046</td>\n",
              "    </tr>\n",
              "    <tr>\n",
              "      <th>3.0</th>\n",
              "      <td>0.519606</td>\n",
              "      <td>0.554153</td>\n",
              "      <td>0.531626</td>\n",
              "      <td>18.195859</td>\n",
              "      <td>32.274561</td>\n",
              "      <td>27.277966</td>\n",
              "      <td>0.0</td>\n",
              "      <td>1.0</td>\n",
              "      <td>0.040000</td>\n",
              "    </tr>\n",
              "  </tbody>\n",
              "</table>\n",
              "</div>"
            ],
            "text/plain": [
              "       propensity_score                      ...  sex               \n",
              "                    min       max      mean  ...  min  max      mean\n",
              "strata                                       ...                    \n",
              "0.0            0.405174  0.441573  0.425825  ...  0.0  1.0  0.880000\n",
              "1.0            0.442026  0.486079  0.465094  ...  0.0  1.0  0.624161\n",
              "2.0            0.486756  0.519602  0.502598  ...  0.0  1.0  0.543046\n",
              "3.0            0.519606  0.554153  0.531626  ...  0.0  1.0  0.040000\n",
              "\n",
              "[4 rows x 9 columns]"
            ]
          },
          "metadata": {}
        },
        {
          "output_type": "execute_result",
          "data": {
            "text/plain": [
              "strata\n",
              "0.0     75\n",
              "1.0    149\n",
              "2.0    151\n",
              "3.0     75\n",
              "Name: strat, dtype: int64"
            ]
          },
          "metadata": {},
          "execution_count": 88
        }
      ]
    },
    {
      "cell_type": "markdown",
      "metadata": {
        "id": "rNGfQrVILmGW"
      },
      "source": [
        "DoWhy has built 5 strata:\n",
        "- stratum 0 is formed by 56 males (sex=0), of older age; as there are no women, propensity score is on the lower range (<0.40);\n",
        "- stratum 5 is formed by 57 females (sex=1), of young age; as there are no men, propensity score is on the higher range (>0.5370);\n",
        "- strata 1-3 have a mix of sexes and ages, and larger numbers;\n",
        "\n",
        "We will use only strata 1-3, hence set min_ps and max_ps accordingly."
      ]
    },
    {
      "cell_type": "code",
      "metadata": {
        "id": "s3G2ELH5Py7I",
        "outputId": "f477bf7f-9623-4eef-a33d-e39e57d19e45",
        "colab": {
          "base_uri": "https://localhost:8080/"
        }
      },
      "source": [
        "ps_cuts = df.groupby('strata')['propensity_score'].min()\n",
        "ps_cuts"
      ],
      "execution_count": 89,
      "outputs": [
        {
          "output_type": "execute_result",
          "data": {
            "text/plain": [
              "strata\n",
              "0.0    0.405174\n",
              "1.0    0.442026\n",
              "2.0    0.486756\n",
              "3.0    0.519606\n",
              "Name: propensity_score, dtype: float64"
            ]
          },
          "metadata": {},
          "execution_count": 89
        }
      ]
    },
    {
      "cell_type": "code",
      "metadata": {
        "colab": {
          "base_uri": "https://localhost:8080/",
          "height": 312
        },
        "id": "cGYeCeMXYYXh",
        "outputId": "caf3fa09-d893-4027-8c02-4ac920001c10"
      },
      "source": [
        "idx_ctrl = df.index[ df['cover']==0 ]\n",
        "idx_treat = df.index[ df['cover']==1 ]\n",
        "\n",
        "ps_treat = estimate_strat.propensity_scores.loc[idx_treat]\n",
        "ps_ctrl = estimate_strat.propensity_scores.loc[idx_ctrl]\n",
        "#ps_ctrl_1 = ps_ctrl [ps_ctrl>ps_thr]\n",
        "\n",
        "#ps_cut_1 = 0.43\n",
        "#ps_cut_2 = 0.53\n",
        "\n",
        "fig, ax0 = plt.subplots(1,1)\n",
        "#fig, (ax0, ax1) = plt.subplots(1,2, figsize=(8,3))\n",
        "ps_treat.hist(ax=ax0, color='blue', alpha=0.5, label='cover=0', density=True)\n",
        "ps_ctrl.hist(ax=ax0, color='red', alpha=0.5, label='cover=1', density=True)\n",
        "\n",
        "for idx, cut in enumerate(ps_cuts):\n",
        "    lab = '$ps_{:1}$'.format(idx)\n",
        "    ax0.axvline(x=cut, ymin=0, ymax=ps_ctrl.max(), linestyle='-.', label=lab)\n",
        "ax0.set_xlabel('propensity score')\n",
        "ax0.set_ylabel('PDF');\n",
        "ax0.set_title('All wells');\n",
        "ax0.legend()\n",
        "plt.legend()\n",
        "#plt.xlabel('propensity score')\n",
        "#plt.ylabel('PDF');\n",
        "#fig.tight_layout() #pad=3.0)\n",
        "\n",
        "# fig.savefig(\"movie_covers_ps.png\", dpi=150)"
      ],
      "execution_count": 90,
      "outputs": [
        {
          "output_type": "execute_result",
          "data": {
            "text/plain": [
              "<matplotlib.legend.Legend at 0x7fef00eda510>"
            ]
          },
          "metadata": {},
          "execution_count": 90
        },
        {
          "output_type": "display_data",
          "data": {
            "image/png": "[encoded data removed]",
            "text/plain": [
              "<Figure size 432x288 with 1 Axes>"
            ]
          },
          "metadata": {
            "needs_background": "light"
          }
        }
      ]
    },
    {
      "cell_type": "markdown",
      "metadata": {
        "id": "fH16BquXXUYb"
      },
      "source": [
        "### Refuting the causal estimate\n",
        "\n",
        "We emphasize again that the causal estimate does not come from data alone. It comes from our assumptions (represented in the causal graph), which underpin the identification step. \n",
        "\n",
        "Data is simply used for statistical estimation. Thus it becomes critical to verify whether our assumptions were even correct in the first step or not!\n",
        "\n",
        "A first-principles verification of assumptions is out of the question, but we can subject our results to a number of refutation attempts -- if all come back as expected, we gain confidence that our causal graph is a good representation of the real-world situation.\n",
        "\n",
        "We now describe some of the refutation methods available on DoWhy:"
      ]
    },
    {
      "cell_type": "markdown",
      "metadata": {
        "id": "xMAyppx3XfJ3"
      },
      "source": [
        "- *Placebo Treatment Refuter*: Randomly assigns any covariate as a treatment and re-runs the analysis. If our assumptions were correct then this newly found out estimate should go to 0."
      ]
    },
    {
      "cell_type": "code",
      "metadata": {
        "colab": {
          "base_uri": "https://localhost:8080/"
        },
        "id": "SASrEIfxXiYe",
        "outputId": "3a6b98d3-ead3-4364-90d2-bd84f9484485"
      },
      "source": [
        "estimate = estimate_strat\n",
        "\n",
        "refute_placebo = model.refute_estimate(identified_estimand, \n",
        "                                   estimate, \n",
        "                                   method_name=\"placebo_treatment_refuter\",\n",
        "                                   placebo_type=\"permute\", num_simulations=2)\n",
        "print(refute_placebo)"
      ],
      "execution_count": 91,
      "outputs": [
        {
          "output_type": "stream",
          "name": "stdout",
          "text": [
            "Refute: Use a Placebo Treatment\n",
            "Estimated effect:0.006173838859523785\n",
            "New effect:0.03948174897085797\n",
            "p value:8.220588848638266e-278\n",
            "\n"
          ]
        }
      ]
    },
    {
      "cell_type": "markdown",
      "metadata": {
        "id": "ZTcPJFlvXstS"
      },
      "source": [
        "We see that the new effect with the placebo ($\\approx 0.05$) is much closer to zero than the initial estimate ($\\approx 0.26$), reinforcing our confidence in it."
      ]
    },
    {
      "cell_type": "markdown",
      "metadata": {
        "id": "wZj1KBagYIRP"
      },
      "source": [
        "- *Random Common Cause*: Adds randomly drawn covariates to the data and re-runs the analysis to see if the causal estimate changes or not. If our assumption was originally correct then the causal estimate shouldn’t change by much."
      ]
    },
    {
      "cell_type": "code",
      "metadata": {
        "colab": {
          "base_uri": "https://localhost:8080/"
        },
        "id": "FF97Bww5YAYX",
        "outputId": "cd50d617-b77b-4d01-e132-95ab5f47dfb2"
      },
      "source": [
        "refute_common_cause=model.refute_estimate(identified_estimand, \n",
        "                                          estimate,\n",
        "                                          method_name=\"random_common_cause\")\n",
        "print(refute_common_cause)"
      ],
      "execution_count": 92,
      "outputs": [
        {
          "output_type": "stream",
          "name": "stdout",
          "text": [
            "Refute: Add a Random Common Cause\n",
            "Estimated effect:0.006173838859523785\n",
            "New effect:0.0062847880769820305\n",
            "\n"
          ]
        }
      ]
    },
    {
      "cell_type": "markdown",
      "metadata": {
        "id": "dGB2cT64YPeu"
      },
      "source": [
        "The new estimate is similar to the initial one which suggests that it is not a random coincidence (it is robust to adding random noise)."
      ]
    },
    {
      "cell_type": "markdown",
      "metadata": {
        "id": "5eoF4BD4ZPMv"
      },
      "source": [
        "- *Data Subset Refuter*: Creates subsets of the data(similar to cross-validation) and checks whether the causal estimates vary across subsets. If our assumptions were correct there shouldn’t be much variation."
      ]
    },
    {
      "cell_type": "code",
      "metadata": {
        "colab": {
          "base_uri": "https://localhost:8080/"
        },
        "id": "Wyy7G7EUZIbV",
        "outputId": "0177394b-4cde-496c-c782-5961e9f491f9"
      },
      "source": [
        "# Note: default value for num_simulations = 100, which can take a long time\n",
        "refute_subset=model.refute_estimate(identified_estimand,\n",
        "                                    estimate,\n",
        "                                    method_name=\"data_subset_refuter\",\n",
        "                                    num_simulations=3)\n",
        "print(refute_subset)"
      ],
      "execution_count": 93,
      "outputs": [
        {
          "output_type": "stream",
          "name": "stdout",
          "text": [
            "Refute: Use a subset of data\n",
            "Estimated effect:0.006173838859523785\n",
            "New effect:-0.017066567064394696\n",
            "p value:0.1856343753321935\n",
            "\n"
          ]
        }
      ]
    },
    {
      "cell_type": "markdown",
      "metadata": {
        "id": "AwzkhdzuZUN3"
      },
      "source": [
        "*Conclusion:*\n",
        "We see that our estimate passes all three refutation tests. This does not prove its correctness, but it increases confidence in the estimate."
      ]
    },
    {
      "cell_type": "markdown",
      "metadata": {
        "id": "e7JayxXZQW78"
      },
      "source": [
        "## Acknowledgement\n",
        "\n",
        "This introductory notebook has been motivated by \n",
        "A. Bertoncello et al., \"Using Causal Inference in Field Development Optimization: Application to Unconventional Plays\", [Math Geosci (2020) 52:619–635](https://doi.org/10.1007/s11004-019-09847-z)"
      ]
    },
    {
      "cell_type": "code",
      "metadata": {
        "id": "0idD7VicQdzY"
      },
      "source": [
        ""
      ],
      "execution_count": 93,
      "outputs": []
    }
  ]
}
