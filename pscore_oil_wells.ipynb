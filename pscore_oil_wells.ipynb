{
  "nbformat": 4,
  "nbformat_minor": 0,
  "metadata": {
    "colab": {
      "name": "pscore_oil_wells.ipynb",
      "provenance": [],
      "authorship_tag": "ABX9TyN9C52GJ9zwL7nyzVOUyUMC",
      "include_colab_link": true
    },
    "kernelspec": {
      "name": "python3",
      "display_name": "Python 3"
    },
    "language_info": {
      "name": "python"
    }
  },
  "cells": [
    {
      "cell_type": "markdown",
      "metadata": {
        "id": "view-in-github",
        "colab_type": "text"
      },
      "source": [
        "<a href=\"https://colab.research.google.com/github/santboia/Curs_CausalDS/blob/main/lecture_notes/pscore_oil_wells.ipynb\" target=\"_parent\"><img src=\"https://colab.research.google.com/assets/colab-badge.svg\" alt=\"Open In Colab\"/></a>"
      ]
    },
    {
      "cell_type": "markdown",
      "metadata": {
        "id": "0Jo_tXW7AZMh"
      },
      "source": [
        "# Tutorial on Propensity Score Matching with Dowhy to de-bias causal estimates\n",
        "\n",
        "In this notebook we introduce the use of propensity score methods as provided by Microsoft's DoWhy library to estimate the magnitude of causal effects.\n",
        "\n",
        "We illustrate this by estimating the effect of a subscription or rewards programme (*treatment*) on customer spend (*outcome*).\n",
        "\n",
        "Suppose that a website has a membership rewards program where customers receive additional benefits if they sign up. How do we know if the program is effective? At the end of the day, it may just be the more engaged customers are also those that sign up for the program!\n",
        "\n",
        "Hence, the relevant causal question is:\n",
        "> What is the impact of offering the membership rewards program on total sales?\n",
        "\n",
        "And the equivalent counterfactual question is, \n",
        "> If the current members had not signed up for the program, how much less would they have spent on the website?\n",
        "\n",
        "In language of causal inference, we are interested in the *Average Treatment Effect on the Treated* (ATT):\n",
        "\n",
        "𝐴𝑇𝑇=𝐸[𝑌(𝑇=1)−𝑌(𝑇=0)|𝑇=1]=𝐸[𝑌(𝑇=1)|𝑇=1]−𝐸[𝑌(𝑇=0)|𝑇=1]\n",
        "\n",
        "Note the counterfactual nature of both this causal effect:\n",
        "- the first term on the right hand side is the average spend by members of the programme (T=1), a potentially observable quantity;\n",
        "- the second term is the average spend by non-members *had they been members*: this cannot be observed, though we may have a control group or modelling strategy that provides a consistent estimate."
      ]
    },
    {
      "cell_type": "markdown",
      "metadata": {
        "id": "bAgX9nmjR4Xr"
      },
      "source": [
        "## Creating a synthetic dataset\n",
        "\n",
        "Suppose that the rewards program was introduced in January 2019. The `outcome` variable is the total spends at the end of the year. We have data on all monthly transactions of every user and on the time of signup for those who chose to signup for the rewards program. Here’s what the data looks like:\n"
      ]
    },
    {
      "cell_type": "code",
      "metadata": {
        "colab": {
          "base_uri": "https://localhost:8080/"
        },
        "id": "mcTwhOiyCHs3",
        "outputId": "b5db0f72-13d3-403b-9585-5c3981106a11"
      },
      "source": [
        "wells = np.arange(num_wells)\n",
        "wells_ceramic = np.random.choice(wells, size=num_ceramic, replace=False)\n",
        "proppant = np.zeros_like(wells)\n",
        "proppant[sorted(wells_ceramic)] = 1\n",
        "proppant.sum(), len(proppant)\n",
        "idx = sorted(wells_ceramic)[:3]\n",
        "print(idx)\n",
        "proppant[idx]"
      ],
      "execution_count": 19,
      "outputs": [
        {
          "output_type": "stream",
          "name": "stdout",
          "text": [
            "[33, 98, 205]\n"
          ]
        },
        {
          "output_type": "execute_result",
          "data": {
            "text/plain": [
              "array([1, 1, 1])"
            ]
          },
          "metadata": {},
          "execution_count": 19
        }
      ]
    },
    {
      "cell_type": "code",
      "metadata": {
        "colab": {
          "base_uri": "https://localhost:8080/",
          "height": 206
        },
        "id": "XiLgdgkKCB5L",
        "outputId": "d54d3f5e-0afb-4180-b5fc-92ab8ebb3855"
      },
      "source": [
        "import pandas as pd\n",
        "import numpy as np\n",
        "num_cer = 189\n",
        "num_sand = 5578\n",
        "num_wells = num_cer + num_sand\n",
        "\n",
        "# treatment = proppants: 0=sand, 1=ceramic\n",
        "#proppants = \n",
        "wells = np.arange(num_wells)\n",
        "random_seed = 12345\n",
        "rng = np.random.default_rng(random_seed)\n",
        "wells_cer = rng.choice(wells, size=num_ceramic, replace=False)\n",
        "proppant = np.zeros_like(wells) #, dtype=bool)\n",
        "proppant[sorted(wells_ceramic)] = 1\n",
        "\n",
        "df = pd.DataFrame({\n",
        "    'well_id': wells, #\n",
        "    'proppant': proppant, # proppant = 0 for sand, = 1 for ceramic\n",
        "})\n",
        "df.head()"
      ],
      "execution_count": 71,
      "outputs": [
        {
          "output_type": "execute_result",
          "data": {
            "text/html": [
              "<div>\n",
              "<style scoped>\n",
              "    .dataframe tbody tr th:only-of-type {\n",
              "        vertical-align: middle;\n",
              "    }\n",
              "\n",
              "    .dataframe tbody tr th {\n",
              "        vertical-align: top;\n",
              "    }\n",
              "\n",
              "    .dataframe thead th {\n",
              "        text-align: right;\n",
              "    }\n",
              "</style>\n",
              "<table border=\"1\" class=\"dataframe\">\n",
              "  <thead>\n",
              "    <tr style=\"text-align: right;\">\n",
              "      <th></th>\n",
              "      <th>well_id</th>\n",
              "      <th>proppant</th>\n",
              "    </tr>\n",
              "  </thead>\n",
              "  <tbody>\n",
              "    <tr>\n",
              "      <th>0</th>\n",
              "      <td>0</td>\n",
              "      <td>0</td>\n",
              "    </tr>\n",
              "    <tr>\n",
              "      <th>1</th>\n",
              "      <td>1</td>\n",
              "      <td>0</td>\n",
              "    </tr>\n",
              "    <tr>\n",
              "      <th>2</th>\n",
              "      <td>2</td>\n",
              "      <td>0</td>\n",
              "    </tr>\n",
              "    <tr>\n",
              "      <th>3</th>\n",
              "      <td>3</td>\n",
              "      <td>0</td>\n",
              "    </tr>\n",
              "    <tr>\n",
              "      <th>4</th>\n",
              "      <td>4</td>\n",
              "      <td>0</td>\n",
              "    </tr>\n",
              "  </tbody>\n",
              "</table>\n",
              "</div>"
            ],
            "text/plain": [
              "   well_id  proppant\n",
              "0        0         0\n",
              "1        1         0\n",
              "2        2         0\n",
              "3        3         0\n",
              "4        4         0"
            ]
          },
          "metadata": {},
          "execution_count": 71
        }
      ]
    },
    {
      "cell_type": "code",
      "metadata": {
        "id": "L80t5N9wSPEn"
      },
      "source": [
        "# Define two latitude and longitude vectors around two geographical clusters:\n",
        "\n",
        "# Distribute 2/3 of the sand wells in a broad (east-west) band\n",
        "# north of Montrose, PA (N of Wilkes-Barre)\n",
        "frac_sand = 2/3\n",
        "num_sand_north = np.ceil(num_sand * frac_sand).astype(int)\n",
        "num_sand_south = num_sand - num_sand_north\n",
        "north_centre = np.array([41.901, -75.920])\n",
        "north_max = np.array([41.989902, -75.519])\n",
        "north_std = np.array([north_max[0]-north_centre[0], -75.712 - (-77.096)])\n",
        "north_lon = rng.normal(loc=north_centre[0], scale=np.abs(north_std[0]), \n",
        "                       size=num_sand_north)\n",
        "north_lat = rng.normal(loc=north_centre[1], scale=np.abs(north_std[1]), \n",
        "                       size=num_sand_north)\n",
        "# Distribute half the ceramic wells in a narrower band latitude-wise:\n",
        "frac_cer = 0.5 #2/3\n",
        "num_cer_north = np.ceil(num_cer * frac_cer).astype(int)\n",
        "num_cer_south = num_cer - num_cer_north\n",
        "cer_north_centre = north_centre\n",
        "cer_north_max = north_max\n",
        "cer_north_std = np.array([cer_north_max[0]-cer_north_centre[0], \n",
        "                          2*(-75.712 - (-75.880))])\n",
        "cer_north_lon = rng.normal(loc=cer_north_centre[0], scale=np.abs(cer_north_std[0]), \n",
        "                       size=num_cer_north)\n",
        "cer_north_lat = rng.normal(loc=north_centre[1], scale=np.abs(cer_north_std[1]), \n",
        "                       size=num_cer_north)"
      ],
      "execution_count": 72,
      "outputs": []
    },
    {
      "cell_type": "code",
      "metadata": {
        "id": "vwrbHZVpSk0j"
      },
      "source": [
        "# Distribute remaining 1/3 of the sand wells in a circular area \n",
        "# around Butler, PA (N of Pittsburgh, PA): (40.850, -79.877)\n",
        "#num_sand_south = num_sand - num_sand_north\n",
        "south_centre = np.array([40.850, -79.877]) # Butler, PA\n",
        "south_max = np.array([40.676, -79.393]) # halfway btw Butler and Pittsburgh\n",
        "south_std = np.array([south_max[0]-south_centre[0], \n",
        "                      south_max[1]-south_centre[1]])\n",
        "south_lon = rng.normal(loc=south_centre[0], scale=np.abs(south_std[0]), \n",
        "                       size=num_sand_south)\n",
        "south_lat = rng.normal(loc=south_centre[1], scale=np.abs(south_std[1]), \n",
        "                       size=num_sand_south)\n",
        "# Distribute remaining half the ceramic wells in a smaller circle\n",
        "# a bit further north from Butler, PA:\n",
        "#num_cer_south = np.ceil(num_cer/2).astype(int)\n",
        "num_cer_south = num_cer - num_cer_north\n",
        "cer_south_centre = np.array([40.912, -79.850]) # bit further N from Butler, PA\n",
        "cer_south_std = 0.5*south_std # smaller radius in both lon and lat\n",
        "cer_south_lon = rng.normal(loc=cer_south_centre[0], scale=np.abs(cer_south_std[0]), \n",
        "                       size=num_cer_south)\n",
        "cer_south_lat = rng.normal(loc=south_centre[1], scale=np.abs(cer_south_std[1]), \n",
        "                       size=num_cer_south)"
      ],
      "execution_count": 73,
      "outputs": []
    },
    {
      "cell_type": "code",
      "metadata": {
        "colab": {
          "base_uri": "https://localhost:8080/"
        },
        "id": "OOKuqlfZVeYd",
        "outputId": "41f2d1de-4ec5-4c16-cc49-804cd800152a"
      },
      "source": [
        "# Overview of latitude and longitude means for sand and ceramic wells:\n",
        "lon_sand = np.concatenate((north_lon, south_lon), axis=0)\n",
        "lon_cer = np.concatenate((cer_north_lon, cer_south_lon), axis=0)\n",
        "print( len(lon_sand), np.mean(lon_sand), len(lon_cer), np.mean(lon_cer) )\n",
        "\n",
        "lat_sand = np.concatenate((north_lat, south_lat), axis=0)\n",
        "lat_cer = np.concatenate((cer_north_lat, cer_south_lat), axis=0)\n",
        "len(lat_sand), np.mean(lat_sand), len(lat_cer), np.mean(lat_cer)"
      ],
      "execution_count": 74,
      "outputs": [
        {
          "output_type": "stream",
          "name": "stdout",
          "text": [
            "5578 41.55238206712042 189 41.42009562743826\n"
          ]
        },
        {
          "output_type": "execute_result",
          "data": {
            "text/plain": [
              "(5578, -77.24572368415336, 189, -77.86408534557413)"
            ]
          },
          "metadata": {},
          "execution_count": 74
        }
      ]
    },
    {
      "cell_type": "code",
      "metadata": {
        "colab": {
          "base_uri": "https://localhost:8080/",
          "height": 206
        },
        "id": "rsRrjd6oVNpQ",
        "outputId": "808dc622-3e5a-4d8e-9136-c4619bad49dc"
      },
      "source": [
        "# add longitudes and latitudes for the wells to the df:\n",
        "df['lon'] = 0.\n",
        "df['lat'] = 0.\n",
        "# sand wells:\n",
        "df.loc[df['proppant']==0, 'lon'] = lon_sand\n",
        "df.loc[df['proppant']==0, 'lat'] = lat_sand\n",
        "# ceramic wells:\n",
        "df.loc[df['proppant']==1, 'lon'] = lon_cer\n",
        "df.loc[df['proppant']==1, 'lat'] = lat_cer\n",
        "df.head()"
      ],
      "execution_count": 75,
      "outputs": [
        {
          "output_type": "execute_result",
          "data": {
            "text/html": [
              "<div>\n",
              "<style scoped>\n",
              "    .dataframe tbody tr th:only-of-type {\n",
              "        vertical-align: middle;\n",
              "    }\n",
              "\n",
              "    .dataframe tbody tr th {\n",
              "        vertical-align: top;\n",
              "    }\n",
              "\n",
              "    .dataframe thead th {\n",
              "        text-align: right;\n",
              "    }\n",
              "</style>\n",
              "<table border=\"1\" class=\"dataframe\">\n",
              "  <thead>\n",
              "    <tr style=\"text-align: right;\">\n",
              "      <th></th>\n",
              "      <th>well_id</th>\n",
              "      <th>proppant</th>\n",
              "      <th>lon</th>\n",
              "      <th>lat</th>\n",
              "    </tr>\n",
              "  </thead>\n",
              "  <tbody>\n",
              "    <tr>\n",
              "      <th>0</th>\n",
              "      <td>0</td>\n",
              "      <td>0</td>\n",
              "      <td>41.968156</td>\n",
              "      <td>-73.990147</td>\n",
              "    </tr>\n",
              "    <tr>\n",
              "      <th>1</th>\n",
              "      <td>1</td>\n",
              "      <td>0</td>\n",
              "      <td>41.797951</td>\n",
              "      <td>-77.817305</td>\n",
              "    </tr>\n",
              "    <tr>\n",
              "      <th>2</th>\n",
              "      <td>2</td>\n",
              "      <td>0</td>\n",
              "      <td>42.092167</td>\n",
              "      <td>-76.688670</td>\n",
              "    </tr>\n",
              "    <tr>\n",
              "      <th>3</th>\n",
              "      <td>3</td>\n",
              "      <td>0</td>\n",
              "      <td>41.887641</td>\n",
              "      <td>-74.028092</td>\n",
              "    </tr>\n",
              "    <tr>\n",
              "      <th>4</th>\n",
              "      <td>4</td>\n",
              "      <td>0</td>\n",
              "      <td>41.886672</td>\n",
              "      <td>-77.281208</td>\n",
              "    </tr>\n",
              "  </tbody>\n",
              "</table>\n",
              "</div>"
            ],
            "text/plain": [
              "   well_id  proppant        lon        lat\n",
              "0        0         0  41.968156 -73.990147\n",
              "1        1         0  41.797951 -77.817305\n",
              "2        2         0  42.092167 -76.688670\n",
              "3        3         0  41.887641 -74.028092\n",
              "4        4         0  41.886672 -77.281208"
            ]
          },
          "metadata": {},
          "execution_count": 75
        }
      ]
    },
    {
      "cell_type": "code",
      "metadata": {
        "colab": {
          "base_uri": "https://localhost:8080/",
          "height": 143
        },
        "id": "HrjUxkEYXUMI",
        "outputId": "0faf4fbf-6a73-41aa-f4b7-f2262db3dba4"
      },
      "source": [
        "# these means should agree with the ones calculated above:\n",
        "df.groupby('proppant')[['lon', 'lat']].mean()"
      ],
      "execution_count": 76,
      "outputs": [
        {
          "output_type": "execute_result",
          "data": {
            "text/html": [
              "<div>\n",
              "<style scoped>\n",
              "    .dataframe tbody tr th:only-of-type {\n",
              "        vertical-align: middle;\n",
              "    }\n",
              "\n",
              "    .dataframe tbody tr th {\n",
              "        vertical-align: top;\n",
              "    }\n",
              "\n",
              "    .dataframe thead th {\n",
              "        text-align: right;\n",
              "    }\n",
              "</style>\n",
              "<table border=\"1\" class=\"dataframe\">\n",
              "  <thead>\n",
              "    <tr style=\"text-align: right;\">\n",
              "      <th></th>\n",
              "      <th>lon</th>\n",
              "      <th>lat</th>\n",
              "    </tr>\n",
              "    <tr>\n",
              "      <th>proppant</th>\n",
              "      <th></th>\n",
              "      <th></th>\n",
              "    </tr>\n",
              "  </thead>\n",
              "  <tbody>\n",
              "    <tr>\n",
              "      <th>0</th>\n",
              "      <td>41.552382</td>\n",
              "      <td>-77.245724</td>\n",
              "    </tr>\n",
              "    <tr>\n",
              "      <th>1</th>\n",
              "      <td>41.420096</td>\n",
              "      <td>-77.864085</td>\n",
              "    </tr>\n",
              "  </tbody>\n",
              "</table>\n",
              "</div>"
            ],
            "text/plain": [
              "                lon        lat\n",
              "proppant                      \n",
              "0         41.552382 -77.245724\n",
              "1         41.420096 -77.864085"
            ]
          },
          "metadata": {},
          "execution_count": 76
        }
      ]
    },
    {
      "cell_type": "code",
      "metadata": {
        "colab": {
          "base_uri": "https://localhost:8080/",
          "height": 143
        },
        "id": "xfiBWgKoF1qv",
        "outputId": "5d4ff30a-419b-43f6-e652-c106ee67fd5b"
      },
      "source": [
        "# add a few covariates that are normally-distributed random variables:\n",
        "output = {'cer': 1.88,    'sand': 1.41    } # 1-year gas production (bcf)\n",
        "fspac = { 'cer': 239.2,   'sand': 273.0   } # fracture spacing (ft)\n",
        "depth = { 'cer': 7004.,   'sand': 6981.   } # vertical depth (ft)\n",
        "length = {'cer': 5225.,   'sand': 5210.   } # lateral length (ft) \n",
        "pint = {  'cer': 1447.,   'sand': 1477.   } # proppant intensity (lbs/ft)\n",
        "\n",
        "feat_names = ['output', 'fspac', 'depth', 'length', 'pint']\n",
        "features = [output, fspac, depth, length, pint]\n",
        "\n",
        "for idx, featn in enumerate(feat_names):\n",
        "#    print(featn)\n",
        "    df[featn] = pd.Series(0, index=df.index)\n",
        "    feat = features[idx]\n",
        "    # sand wells:\n",
        "    ctr = feat['sand']\n",
        "    std = np.sqrt(ctr)\n",
        "    df.loc[df['proppant']==0, featn] = rng.normal(loc=ctr, scale=std, size=num_sand)\n",
        "    # ceramic wells:\n",
        "    ctr = feat['cer']\n",
        "    std = np.sqrt(ctr)\n",
        "    df.loc[df['proppant']==1, featn] = rng.normal(loc=ctr, scale=std, size=num_cer)\n",
        "\n",
        "#df.groupby('proppant').describe() # outputs includes mean,std,min,max,percentiles for each col!\n",
        "df.groupby('proppant').mean()\n",
        "#df.groupby('proppant').aggregate(['mean', np.std])\n"
      ],
      "execution_count": 87,
      "outputs": [
        {
          "output_type": "execute_result",
          "data": {
            "text/html": [
              "<div>\n",
              "<style scoped>\n",
              "    .dataframe tbody tr th:only-of-type {\n",
              "        vertical-align: middle;\n",
              "    }\n",
              "\n",
              "    .dataframe tbody tr th {\n",
              "        vertical-align: top;\n",
              "    }\n",
              "\n",
              "    .dataframe thead th {\n",
              "        text-align: right;\n",
              "    }\n",
              "</style>\n",
              "<table border=\"1\" class=\"dataframe\">\n",
              "  <thead>\n",
              "    <tr style=\"text-align: right;\">\n",
              "      <th></th>\n",
              "      <th>well_id</th>\n",
              "      <th>lon</th>\n",
              "      <th>lat</th>\n",
              "      <th>fspac</th>\n",
              "      <th>depth</th>\n",
              "      <th>length</th>\n",
              "      <th>pint</th>\n",
              "      <th>output</th>\n",
              "    </tr>\n",
              "    <tr>\n",
              "      <th>proppant</th>\n",
              "      <th></th>\n",
              "      <th></th>\n",
              "      <th></th>\n",
              "      <th></th>\n",
              "      <th></th>\n",
              "      <th></th>\n",
              "      <th></th>\n",
              "      <th></th>\n",
              "    </tr>\n",
              "  </thead>\n",
              "  <tbody>\n",
              "    <tr>\n",
              "      <th>0</th>\n",
              "      <td>2885.202223</td>\n",
              "      <td>41.552382</td>\n",
              "      <td>-77.245724</td>\n",
              "      <td>273.224299</td>\n",
              "      <td>6980.732592</td>\n",
              "      <td>5209.411672</td>\n",
              "      <td>1476.449497</td>\n",
              "      <td>1.417031</td>\n",
              "    </tr>\n",
              "    <tr>\n",
              "      <th>1</th>\n",
              "      <td>2818.005291</td>\n",
              "      <td>41.420096</td>\n",
              "      <td>-77.864085</td>\n",
              "      <td>238.427330</td>\n",
              "      <td>6995.579252</td>\n",
              "      <td>5226.239771</td>\n",
              "      <td>1450.698011</td>\n",
              "      <td>1.743639</td>\n",
              "    </tr>\n",
              "  </tbody>\n",
              "</table>\n",
              "</div>"
            ],
            "text/plain": [
              "              well_id        lon        lat  ...       length         pint    output\n",
              "proppant                                     ...                                    \n",
              "0         2885.202223  41.552382 -77.245724  ...  5209.411672  1476.449497  1.417031\n",
              "1         2818.005291  41.420096 -77.864085  ...  5226.239771  1450.698011  1.743639\n",
              "\n",
              "[2 rows x 8 columns]"
            ]
          },
          "metadata": {},
          "execution_count": 87
        }
      ]
    },
    {
      "cell_type": "markdown",
      "metadata": {
        "id": "8DvZKG69e12G"
      },
      "source": [
        "## Naive estimate\n",
        "\n",
        "We calculate the average spend of registered customers after they sign up, and compare that with the average spend of customers who didn't sign up."
      ]
    },
    {
      "cell_type": "markdown",
      "metadata": {
        "id": "fvdpFVhjfQnU"
      },
      "source": [
        "We will analyse data comparing customers that never signed up (`signup_month=0`) with those that signed up in June (`signup_month=6`). This allows us enough spending data before and after sign-up for a reasonable analysis."
      ]
    },
    {
      "cell_type": "code",
      "metadata": {
        "colab": {
          "base_uri": "https://localhost:8080/"
        },
        "id": "HBB7OzaAe3aO",
        "outputId": "90b4a85e-97d7-4c6c-d1f0-d29b54150b98"
      },
      "source": [
        "# Output of sand-drilled wells:\n",
        "y1 = df.loc[df['proppant']==1, \"output\"].mean()\n",
        "# Output of ceramic-drilled wells:\n",
        "y0 = df.loc[df['proppant']==0, \"output\"].mean()\n",
        "\n",
        "print(\"Observational estimate of effect: {:.2} bcf, or {:+.1%}\".format(y1-y0, y1/y0-1.))"
      ],
      "execution_count": 93,
      "outputs": [
        {
          "output_type": "stream",
          "name": "stdout",
          "text": [
            "Observational estimate of effect: 0.33 bcf, or +23.0%\n"
          ]
        }
      ]
    },
    {
      "cell_type": "markdown",
      "metadata": {
        "id": "JDCoiv0ee8ap"
      },
      "source": [
        "According to an simple estimate using the whole set of observed data, ceramic-drilled wells produce 23% more per year than sand-drilled wells."
      ]
    },
    {
      "cell_type": "markdown",
      "metadata": {
        "id": "Y0DtZ2cSSw7g"
      },
      "source": [
        "## Enter DoWhy\n",
        "\n",
        "To find out a better, less biased estimate of the true causal impact of customer registration on their spend, we will use DoWhy. We start loading the required libraries."
      ]
    },
    {
      "cell_type": "code",
      "metadata": {
        "colab": {
          "base_uri": "https://localhost:8080/"
        },
        "id": "Ifi-WLwESzSB",
        "outputId": "b3e017b5-8e53-452e-bcb5-af2eb3e4ec85"
      },
      "source": [
        "# Config dict to set the logging level\n",
        "import logging.config\n",
        "DEFAULT_LOGGING = {\n",
        "    'version': 1,\n",
        "    'disable_existing_loggers': False,\n",
        "    'loggers': {\n",
        "        '': {\n",
        "            'level': 'INFO',\n",
        "        },\n",
        "    }\n",
        "}\n",
        "\n",
        "logging.config.dictConfig(DEFAULT_LOGGING)\n",
        "# Disabling warnings output\n",
        "import warnings\n",
        "from sklearn.exceptions import DataConversionWarning, ConvergenceWarning\n",
        "warnings.filterwarnings(action='ignore', category=DataConversionWarning)\n",
        "warnings.filterwarnings(action='ignore', category=ConvergenceWarning)\n",
        "warnings.filterwarnings(action='ignore', category=UserWarning)\n",
        "\n",
        "# install dowhy\n",
        "import sys\n",
        "!{sys.executable} -m pip install dowhy\n",
        "import dowhy\n",
        "import pandas as pd\n",
        "import numpy as np\n",
        "import matplotlib.pyplot as plt"
      ],
      "execution_count": 94,
      "outputs": [
        {
          "output_type": "stream",
          "name": "stdout",
          "text": [
            "Collecting dowhy\n",
            "  Downloading dowhy-0.6-py3-none-any.whl (123 kB)\n",
            "\u001b[?25l\r\u001b[K     |██▋                             | 10 kB 29.6 MB/s eta 0:00:01\r\u001b[K     |█████▎                          | 20 kB 37.2 MB/s eta 0:00:01\r\u001b[K     |████████                        | 30 kB 44.5 MB/s eta 0:00:01\r\u001b[K     |██████████▋                     | 40 kB 35.4 MB/s eta 0:00:01\r\u001b[K     |█████████████▏                  | 51 kB 14.6 MB/s eta 0:00:01\r\u001b[K     |███████████████▉                | 61 kB 16.8 MB/s eta 0:00:01\r\u001b[K     |██████████████████▌             | 71 kB 12.3 MB/s eta 0:00:01\r\u001b[K     |█████████████████████▏          | 81 kB 13.3 MB/s eta 0:00:01\r\u001b[K     |███████████████████████▉        | 92 kB 14.3 MB/s eta 0:00:01\r\u001b[K     |██████████████████████████▍     | 102 kB 12.5 MB/s eta 0:00:01\r\u001b[K     |█████████████████████████████   | 112 kB 12.5 MB/s eta 0:00:01\r\u001b[K     |███████████████████████████████▊| 122 kB 12.5 MB/s eta 0:00:01\r\u001b[K     |████████████████████████████████| 123 kB 12.5 MB/s \n",
            "\u001b[?25hCollecting pydot>=1.4\n",
            "  Downloading pydot-1.4.2-py2.py3-none-any.whl (21 kB)\n",
            "Requirement already satisfied: networkx>=2.0 in /usr/local/lib/python3.7/dist-packages (from dowhy) (2.6.3)\n",
            "Requirement already satisfied: statsmodels in /usr/local/lib/python3.7/dist-packages (from dowhy) (0.10.2)\n",
            "Requirement already satisfied: scikit-learn in /usr/local/lib/python3.7/dist-packages (from dowhy) (0.22.2.post1)\n",
            "Requirement already satisfied: sympy>=1.4 in /usr/local/lib/python3.7/dist-packages (from dowhy) (1.7.1)\n",
            "Requirement already satisfied: scipy in /usr/local/lib/python3.7/dist-packages (from dowhy) (1.4.1)\n",
            "Requirement already satisfied: pandas>=0.24 in /usr/local/lib/python3.7/dist-packages (from dowhy) (1.1.5)\n",
            "Requirement already satisfied: numpy>=1.15 in /usr/local/lib/python3.7/dist-packages (from dowhy) (1.19.5)\n",
            "Requirement already satisfied: python-dateutil>=2.7.3 in /usr/local/lib/python3.7/dist-packages (from pandas>=0.24->dowhy) (2.8.2)\n",
            "Requirement already satisfied: pytz>=2017.2 in /usr/local/lib/python3.7/dist-packages (from pandas>=0.24->dowhy) (2018.9)\n",
            "Requirement already satisfied: pyparsing>=2.1.4 in /usr/local/lib/python3.7/dist-packages (from pydot>=1.4->dowhy) (2.4.7)\n",
            "Requirement already satisfied: six>=1.5 in /usr/local/lib/python3.7/dist-packages (from python-dateutil>=2.7.3->pandas>=0.24->dowhy) (1.15.0)\n",
            "Requirement already satisfied: mpmath>=0.19 in /usr/local/lib/python3.7/dist-packages (from sympy>=1.4->dowhy) (1.2.1)\n",
            "Requirement already satisfied: joblib>=0.11 in /usr/local/lib/python3.7/dist-packages (from scikit-learn->dowhy) (1.0.1)\n",
            "Requirement already satisfied: patsy>=0.4.0 in /usr/local/lib/python3.7/dist-packages (from statsmodels->dowhy) (0.5.1)\n",
            "Installing collected packages: pydot, dowhy\n",
            "  Attempting uninstall: pydot\n",
            "    Found existing installation: pydot 1.3.0\n",
            "    Uninstalling pydot-1.3.0:\n",
            "      Successfully uninstalled pydot-1.3.0\n",
            "Successfully installed dowhy-0.6 pydot-1.4.2\n"
          ]
        }
      ]
    },
    {
      "cell_type": "code",
      "metadata": {
        "colab": {
          "base_uri": "https://localhost:8080/"
        },
        "id": "sb72eAFcS9KQ",
        "outputId": "9f2accf7-507a-4835-cbd9-d73b9d7c18e7"
      },
      "source": [
        "# install libgraphviz and pygraphviz for nicer-looking graphs:\n",
        "!apt install libgraphviz-dev\n",
        "import sys\n",
        "!{sys.executable} -m pip install pygraphviz\n",
        "import pygraphviz"
      ],
      "execution_count": 95,
      "outputs": [
        {
          "output_type": "stream",
          "name": "stdout",
          "text": [
            "Reading package lists... Done\n",
            "Building dependency tree       \n",
            "Reading state information... Done\n",
            "The following additional packages will be installed:\n",
            "  libgail-common libgail18 libgtk2.0-0 libgtk2.0-bin libgtk2.0-common\n",
            "  libgvc6-plugins-gtk libxdot4\n",
            "Suggested packages:\n",
            "  gvfs\n",
            "The following NEW packages will be installed:\n",
            "  libgail-common libgail18 libgraphviz-dev libgtk2.0-0 libgtk2.0-bin\n",
            "  libgtk2.0-common libgvc6-plugins-gtk libxdot4\n",
            "0 upgraded, 8 newly installed, 0 to remove and 37 not upgraded.\n",
            "Need to get 2,120 kB of archives.\n",
            "After this operation, 7,128 kB of additional disk space will be used.\n",
            "Get:1 http://archive.ubuntu.com/ubuntu bionic/main amd64 libgtk2.0-common all 2.24.32-1ubuntu1 [125 kB]\n",
            "Get:2 http://archive.ubuntu.com/ubuntu bionic/main amd64 libgtk2.0-0 amd64 2.24.32-1ubuntu1 [1,769 kB]\n",
            "Get:3 http://archive.ubuntu.com/ubuntu bionic/main amd64 libgail18 amd64 2.24.32-1ubuntu1 [14.2 kB]\n",
            "Get:4 http://archive.ubuntu.com/ubuntu bionic/main amd64 libgail-common amd64 2.24.32-1ubuntu1 [112 kB]\n",
            "Get:5 http://archive.ubuntu.com/ubuntu bionic/universe amd64 libxdot4 amd64 2.40.1-2 [15.7 kB]\n",
            "Get:6 http://archive.ubuntu.com/ubuntu bionic/universe amd64 libgvc6-plugins-gtk amd64 2.40.1-2 [18.2 kB]\n",
            "Get:7 http://archive.ubuntu.com/ubuntu bionic/universe amd64 libgraphviz-dev amd64 2.40.1-2 [57.3 kB]\n",
            "Get:8 http://archive.ubuntu.com/ubuntu bionic/main amd64 libgtk2.0-bin amd64 2.24.32-1ubuntu1 [7,536 B]\n",
            "Fetched 2,120 kB in 0s (15.4 MB/s)\n",
            "Selecting previously unselected package libgtk2.0-common.\n",
            "(Reading database ... 155047 files and directories currently installed.)\n",
            "Preparing to unpack .../0-libgtk2.0-common_2.24.32-1ubuntu1_all.deb ...\n",
            "Unpacking libgtk2.0-common (2.24.32-1ubuntu1) ...\n",
            "Selecting previously unselected package libgtk2.0-0:amd64.\n",
            "Preparing to unpack .../1-libgtk2.0-0_2.24.32-1ubuntu1_amd64.deb ...\n",
            "Unpacking libgtk2.0-0:amd64 (2.24.32-1ubuntu1) ...\n",
            "Selecting previously unselected package libgail18:amd64.\n",
            "Preparing to unpack .../2-libgail18_2.24.32-1ubuntu1_amd64.deb ...\n",
            "Unpacking libgail18:amd64 (2.24.32-1ubuntu1) ...\n",
            "Selecting previously unselected package libgail-common:amd64.\n",
            "Preparing to unpack .../3-libgail-common_2.24.32-1ubuntu1_amd64.deb ...\n",
            "Unpacking libgail-common:amd64 (2.24.32-1ubuntu1) ...\n",
            "Selecting previously unselected package libxdot4.\n",
            "Preparing to unpack .../4-libxdot4_2.40.1-2_amd64.deb ...\n",
            "Unpacking libxdot4 (2.40.1-2) ...\n",
            "Selecting previously unselected package libgvc6-plugins-gtk.\n",
            "Preparing to unpack .../5-libgvc6-plugins-gtk_2.40.1-2_amd64.deb ...\n",
            "Unpacking libgvc6-plugins-gtk (2.40.1-2) ...\n",
            "Selecting previously unselected package libgraphviz-dev.\n",
            "Preparing to unpack .../6-libgraphviz-dev_2.40.1-2_amd64.deb ...\n",
            "Unpacking libgraphviz-dev (2.40.1-2) ...\n",
            "Selecting previously unselected package libgtk2.0-bin.\n",
            "Preparing to unpack .../7-libgtk2.0-bin_2.24.32-1ubuntu1_amd64.deb ...\n",
            "Unpacking libgtk2.0-bin (2.24.32-1ubuntu1) ...\n",
            "Setting up libgtk2.0-common (2.24.32-1ubuntu1) ...\n",
            "Setting up libxdot4 (2.40.1-2) ...\n",
            "Setting up libgtk2.0-0:amd64 (2.24.32-1ubuntu1) ...\n",
            "Setting up libgail18:amd64 (2.24.32-1ubuntu1) ...\n",
            "Setting up libgail-common:amd64 (2.24.32-1ubuntu1) ...\n",
            "Setting up libgvc6-plugins-gtk (2.40.1-2) ...\n",
            "Setting up libgraphviz-dev (2.40.1-2) ...\n",
            "Setting up libgtk2.0-bin (2.24.32-1ubuntu1) ...\n",
            "Processing triggers for man-db (2.8.3-2ubuntu0.1) ...\n",
            "Processing triggers for libc-bin (2.27-3ubuntu1.3) ...\n",
            "/sbin/ldconfig.real: /usr/local/lib/python3.7/dist-packages/ideep4py/lib/libmkldnn.so.0 is not a symbolic link\n",
            "\n",
            "Collecting pygraphviz\n",
            "  Downloading pygraphviz-1.7.zip (118 kB)\n",
            "\u001b[K     |████████████████████████████████| 118 kB 12.3 MB/s \n",
            "\u001b[?25hBuilding wheels for collected packages: pygraphviz\n",
            "  Building wheel for pygraphviz (setup.py) ... \u001b[?25l\u001b[?25hdone\n",
            "  Created wheel for pygraphviz: filename=pygraphviz-1.7-cp37-cp37m-linux_x86_64.whl size=165750 sha256=c64fa97a33791a7d95f4c1e1428788aace38429469c3f12d5ecc1dd9c7e9f9f4\n",
            "  Stored in directory: /root/.cache/pip/wheels/8c/bc/0c/ac35392b72556e75107ff610cb31b313e8471918a6d280e34c\n",
            "Successfully built pygraphviz\n",
            "Installing collected packages: pygraphviz\n",
            "Successfully installed pygraphviz-1.7\n"
          ]
        }
      ]
    },
    {
      "cell_type": "markdown",
      "metadata": {
        "id": "MWJvActeZ3ZZ"
      },
      "source": [
        "## Building a causal model\n",
        "\n",
        "We now build a graph incorporating our assumptions on the variables (features) that affect whether a customer *signs up to the programme* as well as the actual amount spent by a customer.\n",
        "\n",
        "Our assumptions, stemming from our business knowledge, are:\n",
        "- past expenditure is associated with whether a customer signs up or not: `pre_spend -> treatment`;\n",
        "- past expenditure is *not* directly associated with future expenditures: no arrow from `pre_spend` to `post_spend`;\n",
        "- signing up leads to a change (positive or negative) on post-signup spend:  `treatment -> post_spend`;\n",
        "- more engaged customers will signup earlier ( `signup_month -> program_signup_in_month_i`) and also spend more before (`signup_month -> pre_spend`) and after (`signup_month -> post_spend`) signing up;\n",
        "- there may be other variables affecting the month in which customers signup (`Z -> program_signup_in_month_i`) that do not directly affect spend before or after signing up;\n",
        "- it is likely there are further unobserved variables that affect all of `program_signup_in_month_i`, `pre_spend` and `post_spend` (\"Unobserved confounders)."
      ]
    },
    {
      "cell_type": "code",
      "metadata": {
        "colab": {
          "base_uri": "https://localhost:8080/"
        },
        "id": "bIT7zH1ke5-i",
        "outputId": "99f58fa2-c469-49e4-ca01-ffa690fe36e6"
      },
      "source": [
        "df.columns"
      ],
      "execution_count": 96,
      "outputs": [
        {
          "output_type": "execute_result",
          "data": {
            "text/plain": [
              "Index(['well_id', 'proppant', 'lon', 'lat', 'fspac', 'depth', 'length', 'pint',\n",
              "       'output'],\n",
              "      dtype='object')"
            ]
          },
          "metadata": {},
          "execution_count": 96
        }
      ]
    },
    {
      "cell_type": "code",
      "metadata": {
        "colab": {
          "base_uri": "https://localhost:8080/",
          "height": 206
        },
        "id": "FzUXFoekhM93",
        "outputId": "6b737f9b-aa5e-4e17-ca36-9679bfab8272"
      },
      "source": [
        "df['treatment'] = df['proppant'].astype(bool)\n",
        "df.head()"
      ],
      "execution_count": 107,
      "outputs": [
        {
          "output_type": "execute_result",
          "data": {
            "text/html": [
              "<div>\n",
              "<style scoped>\n",
              "    .dataframe tbody tr th:only-of-type {\n",
              "        vertical-align: middle;\n",
              "    }\n",
              "\n",
              "    .dataframe tbody tr th {\n",
              "        vertical-align: top;\n",
              "    }\n",
              "\n",
              "    .dataframe thead th {\n",
              "        text-align: right;\n",
              "    }\n",
              "</style>\n",
              "<table border=\"1\" class=\"dataframe\">\n",
              "  <thead>\n",
              "    <tr style=\"text-align: right;\">\n",
              "      <th></th>\n",
              "      <th>well_id</th>\n",
              "      <th>proppant</th>\n",
              "      <th>lon</th>\n",
              "      <th>lat</th>\n",
              "      <th>fspac</th>\n",
              "      <th>depth</th>\n",
              "      <th>length</th>\n",
              "      <th>pint</th>\n",
              "      <th>output</th>\n",
              "      <th>treatment</th>\n",
              "    </tr>\n",
              "  </thead>\n",
              "  <tbody>\n",
              "    <tr>\n",
              "      <th>0</th>\n",
              "      <td>0</td>\n",
              "      <td>0</td>\n",
              "      <td>41.968156</td>\n",
              "      <td>-73.990147</td>\n",
              "      <td>266.205064</td>\n",
              "      <td>6895.918378</td>\n",
              "      <td>5241.146199</td>\n",
              "      <td>1493.499678</td>\n",
              "      <td>1.386073</td>\n",
              "      <td>False</td>\n",
              "    </tr>\n",
              "    <tr>\n",
              "      <th>1</th>\n",
              "      <td>1</td>\n",
              "      <td>0</td>\n",
              "      <td>41.797951</td>\n",
              "      <td>-77.817305</td>\n",
              "      <td>281.274636</td>\n",
              "      <td>6989.719448</td>\n",
              "      <td>5139.778564</td>\n",
              "      <td>1430.236063</td>\n",
              "      <td>3.028000</td>\n",
              "      <td>False</td>\n",
              "    </tr>\n",
              "    <tr>\n",
              "      <th>2</th>\n",
              "      <td>2</td>\n",
              "      <td>0</td>\n",
              "      <td>42.092167</td>\n",
              "      <td>-76.688670</td>\n",
              "      <td>261.987765</td>\n",
              "      <td>6948.999599</td>\n",
              "      <td>5286.290194</td>\n",
              "      <td>1466.143483</td>\n",
              "      <td>0.552205</td>\n",
              "      <td>False</td>\n",
              "    </tr>\n",
              "    <tr>\n",
              "      <th>3</th>\n",
              "      <td>3</td>\n",
              "      <td>0</td>\n",
              "      <td>41.887641</td>\n",
              "      <td>-74.028092</td>\n",
              "      <td>309.613335</td>\n",
              "      <td>6891.927404</td>\n",
              "      <td>5320.846946</td>\n",
              "      <td>1483.316375</td>\n",
              "      <td>1.192897</td>\n",
              "      <td>False</td>\n",
              "    </tr>\n",
              "    <tr>\n",
              "      <th>4</th>\n",
              "      <td>4</td>\n",
              "      <td>0</td>\n",
              "      <td>41.886672</td>\n",
              "      <td>-77.281208</td>\n",
              "      <td>273.392669</td>\n",
              "      <td>6943.336605</td>\n",
              "      <td>5276.733418</td>\n",
              "      <td>1447.304495</td>\n",
              "      <td>0.528195</td>\n",
              "      <td>False</td>\n",
              "    </tr>\n",
              "  </tbody>\n",
              "</table>\n",
              "</div>"
            ],
            "text/plain": [
              "   well_id  proppant        lon  ...         pint    output  treatment\n",
              "0        0         0  41.968156  ...  1493.499678  1.386073      False\n",
              "1        1         0  41.797951  ...  1430.236063  3.028000      False\n",
              "2        2         0  42.092167  ...  1466.143483  0.552205      False\n",
              "3        3         0  41.887641  ...  1483.316375  1.192897      False\n",
              "4        4         0  41.886672  ...  1447.304495  0.528195      False\n",
              "\n",
              "[5 rows x 10 columns]"
            ]
          },
          "metadata": {},
          "execution_count": 107
        }
      ]
    },
    {
      "cell_type": "code",
      "metadata": {
        "colab": {
          "base_uri": "https://localhost:8080/",
          "height": 556
        },
        "id": "pGqk_oCRTD8B",
        "outputId": "410ddc1e-2cbf-4b24-97d6-c7580cda4862"
      },
      "source": [
        "# complicated causal graph, with suff.adj.set={lon,lat,pint,depth} :\n",
        "causal_graph = \"\"\"digraph {\n",
        "treatment[label=\"T=proppant\"];\n",
        "output[label=\"Y=output\"];\n",
        "lon;\n",
        "lat;\n",
        "fspac;\n",
        "depth;\n",
        "length;\n",
        "U[label=\"Unobserved Confounders\"];\n",
        "lon -> treatment;\n",
        "lat -> treatment;\n",
        "lon -> output;\n",
        "lat -> output;\n",
        "depth -> treatment;\n",
        "lon -> depth;\n",
        "lat -> depth;\n",
        "treatment -> fspac;\n",
        "treatment -> output;\n",
        "treatment -> length;\n",
        "length -> output;\n",
        "fspac -> output;\n",
        "U->treatment; U->output; U->lon; U->lat; \n",
        "}\"\"\"\n",
        "\n",
        "# Instantiate a causal model with the processed data and our causal graph:\n",
        "model = dowhy.CausalModel(data=df,\n",
        "                     graph=causal_graph.replace(\"\\n\", \" \"),\n",
        "                     treatment=\"treatment\",\n",
        "                     outcome=\"output\")\n",
        "model.view_model()\n",
        "from IPython.display import Image, display\n",
        "display(Image(filename=\"causal_model.png\"))"
      ],
      "execution_count": 124,
      "outputs": [
        {
          "output_type": "display_data",
          "data": {
            "image/png": "[encoded data removed]",
            "text/plain": [
              "<IPython.core.display.Image object>"
            ]
          },
          "metadata": {}
        }
      ]
    },
    {
      "cell_type": "code",
      "metadata": {
        "colab": {
          "base_uri": "https://localhost:8080/",
          "height": 460
        },
        "id": "v1ucfRNBhrYk",
        "outputId": "29955562-d9f8-4982-f783-e96192835d5f"
      },
      "source": [
        "# simpler causal graph with only lon,lat as sufficient adjustment set:\n",
        "causal_graph = \"\"\"digraph {\n",
        "treatment[label=\"T=proppant\"];\n",
        "output[label=\"Y=output\"];\n",
        "lon;\n",
        "lat;\n",
        "depth;\n",
        "length;\n",
        "U[label=\"Unobserved Confounders\"];\n",
        "lon -> treatment;\n",
        "lat -> treatment;\n",
        "lon -> output;\n",
        "lat -> output;\n",
        "treatment -> fspac;\n",
        "treatment -> output;\n",
        "treatment -> length;\n",
        "treatment -> depth;\n",
        "treatment -> fspac;\n",
        "depth -> output;\n",
        "length -> output;\n",
        "fspac -> output;\n",
        "U->treatment; U->output; U->lon; U->lat; U -> depth;\n",
        "}\"\"\"\n",
        "\n",
        "# Instantiate a causal model with the processed data and our causal graph:\n",
        "model = dowhy.CausalModel(data=df,\n",
        "                     graph=causal_graph.replace(\"\\n\", \" \"),\n",
        "                     treatment=\"treatment\",\n",
        "                     outcome=\"output\")\n",
        "model.view_model()\n",
        "from IPython.display import Image, display\n",
        "display(Image(filename=\"causal_model.png\"))"
      ],
      "execution_count": 116,
      "outputs": [
        {
          "output_type": "display_data",
          "data": {
            "image/png": "[encoded data removed]",
            "text/plain": [
              "<IPython.core.display.Image object>"
            ]
          },
          "metadata": {}
        }
      ]
    },
    {
      "cell_type": "markdown",
      "metadata": {
        "id": "U9lHk7JTUMEY"
      },
      "source": [
        "## Identify the causal effect\n",
        "\n",
        "We assume that `unobserved confounders` do not have an important impact to enable identifying the causal effect:"
      ]
    },
    {
      "cell_type": "code",
      "metadata": {
        "colab": {
          "base_uri": "https://localhost:8080/"
        },
        "id": "KN6v_fhIUdqu",
        "outputId": "46c0b271-77e6-4be9-9b7f-aee7536784ab"
      },
      "source": [
        "identified_estimand = model.identify_effect(proceed_when_unidentifiable=True)\n",
        "print(identified_estimand)"
      ],
      "execution_count": 125,
      "outputs": [
        {
          "output_type": "stream",
          "name": "stdout",
          "text": [
            "Estimand type: nonparametric-ate\n",
            "\n",
            "### Estimand : 1\n",
            "Estimand name: backdoor\n",
            "Estimand expression:\n",
            "     d                                         \n",
            "────────────(Expectation(output|lat,lon,depth))\n",
            "d[treatment]                                   \n",
            "Estimand assumption 1, Unconfoundedness: If U→{treatment} and U→output then P(output|treatment,lat,lon,depth,U) = P(output|treatment,lat,lon,depth)\n",
            "\n",
            "### Estimand : 2\n",
            "Estimand name: iv\n",
            "No such variable found!\n",
            "\n",
            "### Estimand : 3\n",
            "Estimand name: frontdoor\n",
            "No such variable found!\n",
            "\n"
          ]
        }
      ]
    },
    {
      "cell_type": "markdown",
      "metadata": {
        "id": "z8KQ_T5aUiIw"
      },
      "source": [
        "Here, DoWhy informs us that it can provide estimates of the causal effect by two methods: the backdoor criterion and using `Z` as an instrumental variable (IV).\n",
        "\n",
        "The expression in the backdoor case indicates that \n",
        "based on the causal graph, DoWhy has determined that the signup month (`signup_month`) and amount spent in the pre-treatment months (`pre_spend`) needs to be conditioned on.\n",
        "\n",
        "*Instrumental variables are an econometric method of causal inference outside the scope of this workshop.*\n"
      ]
    },
    {
      "cell_type": "markdown",
      "metadata": {
        "id": "ViGOb7rqVX1S"
      },
      "source": [
        "## Numerical estimate of the causal effect\n",
        "\n",
        "We now determine the causal estimate of the ATT using *propensity score matching*, i.e., identifying datapoints with similar values of covariates and differing only in the value of *treatment* to estimate the causal effect.\n",
        "\n",
        "Other potential causal quantities of interest are:\n",
        "\n",
        "- the *average treatment effect* (ATE):\n",
        "$ ATE = E[Y(T=1)] - E[Y(T=0)]$\n",
        "\n",
        "-  the Average Treatment Effect on Control (ATC): $ATC = E[Y(T=1)-Y(T=0)|T=0] =  E[Y(T=1)|T=0] - E[Y(T=0)|T=0]$\n"
      ]
    },
    {
      "cell_type": "code",
      "metadata": {
        "colab": {
          "base_uri": "https://localhost:8080/"
        },
        "id": "hvsVQ_SLVagV",
        "outputId": "836cf334-f5f5-4ed1-e543-511027c89e0e"
      },
      "source": [
        "# Determine the causal estimate of the ATE\n",
        "estimate = model.estimate_effect(identified_estimand,\n",
        "                                 #method_name=\"backdoor1.propensity_score_stratification\",\n",
        "                                 method_name=\"backdoor1.propensity_score_matching\",\n",
        "                                target_units=\"ate\")\n",
        "print(estimate)\n",
        "\n",
        "print(\"Causal estimate of effect: {:.2} bcf, or {:+.1%}\".format(\n",
        "    estimate.value, estimate.value/y0))"
      ],
      "execution_count": 140,
      "outputs": [
        {
          "output_type": "stream",
          "name": "stdout",
          "text": [
            "*** Causal Estimate ***\n",
            "\n",
            "## Identified estimand\n",
            "Estimand type: nonparametric-ate\n",
            "\n",
            "## Realized estimand\n",
            "b: output~treatment+lat+lon+depth\n",
            "Target units: ate\n",
            "\n",
            "## Estimate\n",
            "Mean value: 0.25542401831325423\n",
            "\n",
            "Causal estimate of effect: 0.26 bcf, or +18.0%\n"
          ]
        }
      ]
    },
    {
      "cell_type": "code",
      "metadata": {
        "colab": {
          "base_uri": "https://localhost:8080/"
        },
        "id": "VSAZYQHjjtbv",
        "outputId": "fb8fb483-aea1-4fa2-80bc-a2f9c97d135e"
      },
      "source": [
        "# We can take a look at the propensity scores:\n",
        "estimate.propensity_scores.aggregate(['min', 'mean', 'max'])"
      ],
      "execution_count": 141,
      "outputs": [
        {
          "output_type": "execute_result",
          "data": {
            "text/plain": [
              "min     0.028107\n",
              "mean    0.032856\n",
              "max     0.037635\n",
              "Name: propensity_score, dtype: float64"
            ]
          },
          "metadata": {},
          "execution_count": 141
        }
      ]
    },
    {
      "cell_type": "code",
      "metadata": {
        "colab": {
          "base_uri": "https://localhost:8080/"
        },
        "id": "VR4VK-3KjcB6",
        "outputId": "66a91521-cb05-4c8d-df54-661b0418210b"
      },
      "source": [
        "print(\"Recall the fraction of wells that were treated is \", num_cer/num_wells)"
      ],
      "execution_count": 142,
      "outputs": [
        {
          "output_type": "stream",
          "name": "stdout",
          "text": [
            "Recall the fraction of wells that were treated is  0.03277267209987862\n"
          ]
        }
      ]
    },
    {
      "cell_type": "markdown",
      "metadata": {
        "id": "fH16BquXXUYb"
      },
      "source": [
        "## Refuting the causal estimate\n",
        "\n",
        "We emphasize again that the causal estimate does not come from data alone. It comes from our assumptions (represented in the causal graph), which underpin the identification step. \n",
        "\n",
        "Data is simply used for statistical estimation. Thus it becomes critical to verify whether our assumptions were even correct in the first step or not!\n",
        "\n",
        "A first-principles verification of assumptions is out of the question, but we can subject our results to a number of refutation attempts -- if all come back as expected, we gain confidence that our causal graph is a good representation of the real-world situation.\n",
        "\n",
        "We now describe some of the refutation methods available on DoWhy:"
      ]
    },
    {
      "cell_type": "markdown",
      "metadata": {
        "id": "xMAyppx3XfJ3"
      },
      "source": [
        "- *Placebo Treatment Refuter*: Randomly assigns any covariate as a treatment and re-runs the analysis. If our assumptions were correct then this newly found out estimate should go to 0."
      ]
    },
    {
      "cell_type": "code",
      "metadata": {
        "colab": {
          "base_uri": "https://localhost:8080/"
        },
        "id": "SASrEIfxXiYe",
        "outputId": "336c5e99-db3d-418d-d4e3-09d3f9a5c2bd"
      },
      "source": [
        "refutation = model.refute_estimate(identified_estimand, \n",
        "                                   estimate, \n",
        "                                   method_name=\"placebo_treatment_refuter\",\n",
        "                                   placebo_type=\"permute\", num_simulations=2)\n",
        "print(refutation)"
      ],
      "execution_count": 143,
      "outputs": [
        {
          "output_type": "stream",
          "name": "stdout",
          "text": [
            "Refute: Use a Placebo Treatment\n",
            "Estimated effect:0.25542401831325423\n",
            "New effect:0.05243064018887222\n",
            "p value:0.3395083425838632\n",
            "\n"
          ]
        }
      ]
    },
    {
      "cell_type": "markdown",
      "metadata": {
        "id": "ZTcPJFlvXstS"
      },
      "source": [
        "We see that the new effect with the placebo ($\\approx 0.05$) is much closer to zero than the initial estimate ($\\approx 0.26$), reinforcing our confidence in it."
      ]
    },
    {
      "cell_type": "markdown",
      "metadata": {
        "id": "wZj1KBagYIRP"
      },
      "source": [
        "- *Random Common Cause*: Adds randomly drawn covariates to the data and re-runs the analysis to see if the causal estimate changes or not. If our assumption was originally correct then the causal estimate shouldn’t change by much."
      ]
    },
    {
      "cell_type": "code",
      "metadata": {
        "colab": {
          "base_uri": "https://localhost:8080/"
        },
        "id": "FF97Bww5YAYX",
        "outputId": "3d391bd6-1f74-4fa8-c6ff-228d5d8f3692"
      },
      "source": [
        "refute_common_cause=model.refute_estimate(identified_estimand, \n",
        "                                          estimate,\n",
        "                                          method_name=\"random_common_cause\")\n",
        "print(refute_common_cause)"
      ],
      "execution_count": 144,
      "outputs": [
        {
          "output_type": "stream",
          "name": "stdout",
          "text": [
            "Refute: Add a Random Common Cause\n",
            "Estimated effect:0.25542401831325423\n",
            "New effect:0.25542401831325423\n",
            "\n"
          ]
        }
      ]
    },
    {
      "cell_type": "markdown",
      "metadata": {
        "id": "dGB2cT64YPeu"
      },
      "source": [
        "The new estimate is similar to the initial one which suggests that it is not a random coincidence (it is robust to adding random noise)."
      ]
    },
    {
      "cell_type": "markdown",
      "metadata": {
        "id": "5eoF4BD4ZPMv"
      },
      "source": [
        "- *Data Subset Refuter*: Creates subsets of the data(similar to cross-validation) and checks whether the causal estimates vary across subsets. If our assumptions were correct there shouldn’t be much variation."
      ]
    },
    {
      "cell_type": "code",
      "metadata": {
        "colab": {
          "base_uri": "https://localhost:8080/"
        },
        "id": "Wyy7G7EUZIbV",
        "outputId": "60472cc8-3c8a-4384-8f2f-8fe1376846cb"
      },
      "source": [
        "# Note: default value for num_simulations = 100, which can take a long time\n",
        "refute_subset=model.refute_estimate(identified_estimand, \n",
        "                                      estimate,\n",
        "                                      method_name=\"data_subset_refuter\",\n",
        "                                      num_simulations=3)\n",
        "print(refute_subset)"
      ],
      "execution_count": 145,
      "outputs": [
        {
          "output_type": "stream",
          "name": "stdout",
          "text": [
            "Refute: Use a subset of data\n",
            "Estimated effect:0.25542401831325423\n",
            "New effect:0.25110401856001735\n",
            "p value:0.46560713370775453\n",
            "\n"
          ]
        }
      ]
    },
    {
      "cell_type": "markdown",
      "metadata": {
        "id": "AwzkhdzuZUN3"
      },
      "source": [
        "*Conclusion:*\n",
        "We see that our estimate passes all three refutation tests. This does not prove its correctness, but it increases confidence in the estimate."
      ]
    },
    {
      "cell_type": "markdown",
      "metadata": {
        "id": "e7JayxXZQW78"
      },
      "source": [
        "## Acknowledgement\n",
        "\n",
        "This introductory notebook has been motivated by \n",
        "A. Bertoncello et al., \"Using Causal Inference in Field Development Optimization: Application to Unconventional Plays\", [Math Geosci (2020) 52:619–635](https://doi.org/10.1007/s11004-019-09847-z)"
      ]
    },
    {
      "cell_type": "code",
      "metadata": {
        "id": "0idD7VicQdzY"
      },
      "source": [
        ""
      ],
      "execution_count": null,
      "outputs": []
    }
  ]
}